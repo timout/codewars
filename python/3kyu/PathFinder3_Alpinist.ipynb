{
 "cells": [
  {
   "cell_type": "markdown",
   "metadata": {},
   "source": [
    "### Path Finder 3: the Alpinist\n",
    "\n",
    "You are at start location [0, 0] in mountain area of NxN and you can only move in one of the four cardinal directions (i.e. North, East, South, West). Return minimal number of climb rounds to target location [N-1, N-1]. Number of climb rounds between adjacent locations is defined as difference of location altitudes (ascending or descending).\n",
    "\n",
    "Location altitude is defined as an integer number (0-9)."
   ]
  },
  {
   "cell_type": "code",
   "execution_count": 2,
   "metadata": {},
   "outputs": [],
   "source": [
    "import functools as ft\n",
    "import itertools as it\n",
    "\n",
    "def parse_maze(m):\n",
    "    return [ list(map( lambda c: int(c), l)) for l in m.split('\\n') ]\n",
    "\n",
    "def product(N):\n",
    "    return it.product(range(0,N),range(0,N))\n",
    "\n",
    "class Maze(object):\n",
    "                      \n",
    "    steps = [ (0,1), (1,0), (-1,0), (0,-1) ]\n",
    "                      \n",
    "    def __init__(self, maze):\n",
    "        self.maze = maze\n",
    "        self.N = len(maze)\n",
    "        bv = float('inf')\n",
    "        self.climbs = [ [bv]*self.N for i in range(0,self.N) ]\n",
    "        self.climbs[0][0] = 0\n",
    "        for l in maze: print(l)\n",
    "    \n",
    "    def is_valid(self, y, x):\n",
    "        return y >= 0 and x >= 0 and y < self.N and x < self.N\n",
    "    \n",
    "    def update_step(self, y, x, step):\n",
    "        sy, sx = y+step[0], x+step[1]\n",
    "        if self.is_valid(sy, sx): \n",
    "            s_value = self.climbs[y][x] + abs(self.maze[y][x] - self.maze[sy][sx])\n",
    "            if self.climbs[sy][sx] > s_value:\n",
    "                self.climbs[sy][sx] = s_value\n",
    "                return True\n",
    "        return False\n",
    "                      \n",
    "    def update_path(self, y, x):\n",
    "        return ft.reduce(lambda r, s: self.update_step(y, x, s) or r, Maze.steps, False)\n",
    "        \n",
    "    def update_values(self):\n",
    "        return ft.reduce(lambda r, s: self.update_path(s[0],s[1]) or r ,product(self.N), False)\n",
    "    \n",
    "    def find(self):\n",
    "        do_run = True\n",
    "        while do_run:\n",
    "            do_run = self.update_values()\n",
    "        return self.climbs[self.N-1][self.N-1]\n",
    "\n",
    "def path_finder(m):\n",
    "    if not m: return 0\n",
    "    maze = Maze(parse_maze(m))\n",
    "    return maze.find()"
   ]
  },
  {
   "cell_type": "code",
   "execution_count": 3,
   "metadata": {},
   "outputs": [
    {
     "name": "stdout",
     "output_type": "stream",
     "text": [
      "[1, 2, 3, 4]\n",
      "[4, 3, 2, 1]\n",
      "[1, 2, 3, 4]\n",
      "[4, 3, 2, 1]\n"
     ]
    },
    {
     "data": {
      "text/plain": [
       "6"
      ]
     },
     "execution_count": 3,
     "metadata": {},
     "output_type": "execute_result"
    }
   ],
   "source": [
    "path_finder('1234\\n4321\\n1234\\n4321')"
   ]
  },
  {
   "cell_type": "code",
   "execution_count": 4,
   "metadata": {},
   "outputs": [
    {
     "name": "stdout",
     "output_type": "stream",
     "text": [
      "[0, 0, 0]\n",
      "[0, 0, 0]\n",
      "[0, 0, 0]\n"
     ]
    },
    {
     "data": {
      "text/plain": [
       "0"
      ]
     },
     "execution_count": 4,
     "metadata": {},
     "output_type": "execute_result"
    }
   ],
   "source": [
    "a = \"\\n\".join([\n",
    "  \"000\",\n",
    "  \"000\",\n",
    "  \"000\"\n",
    "])\n",
    "path_finder(a) #0"
   ]
  },
  {
   "cell_type": "code",
   "execution_count": 5,
   "metadata": {},
   "outputs": [
    {
     "name": "stdout",
     "output_type": "stream",
     "text": [
      "[0, 1, 0]\n",
      "[0, 1, 0]\n",
      "[0, 1, 0]\n"
     ]
    },
    {
     "data": {
      "text/plain": [
       "2"
      ]
     },
     "execution_count": 5,
     "metadata": {},
     "output_type": "execute_result"
    }
   ],
   "source": [
    "b = \"\\n\".join([\n",
    "  \"010\",\n",
    "  \"010\",\n",
    "  \"010\"\n",
    "])\n",
    "path_finder(b) #2\n"
   ]
  },
  {
   "cell_type": "code",
   "execution_count": 6,
   "metadata": {},
   "outputs": [
    {
     "name": "stdout",
     "output_type": "stream",
     "text": [
      "[0, 1, 0]\n",
      "[1, 0, 1]\n",
      "[0, 1, 0]\n"
     ]
    },
    {
     "data": {
      "text/plain": [
       "4"
      ]
     },
     "execution_count": 6,
     "metadata": {},
     "output_type": "execute_result"
    }
   ],
   "source": [
    "c = \"\\n\".join([\n",
    "  \"010\",\n",
    "  \"101\",\n",
    "  \"010\"\n",
    "])\n",
    "path_finder(c) #4\n"
   ]
  },
  {
   "cell_type": "code",
   "execution_count": 7,
   "metadata": {},
   "outputs": [
    {
     "name": "stdout",
     "output_type": "stream",
     "text": [
      "[0, 7, 0, 7]\n",
      "[7, 0, 7, 0]\n",
      "[0, 7, 0, 7]\n",
      "[7, 0, 7, 0]\n"
     ]
    },
    {
     "data": {
      "text/plain": [
       "42"
      ]
     },
     "execution_count": 7,
     "metadata": {},
     "output_type": "execute_result"
    }
   ],
   "source": [
    "d = \"\\n\".join([\n",
    "  \"0707\",\n",
    "  \"7070\",\n",
    "  \"0707\",\n",
    "  \"7070\"\n",
    "])\n",
    "path_finder(d) #42"
   ]
  },
  {
   "cell_type": "code",
   "execution_count": 8,
   "metadata": {},
   "outputs": [
    {
     "name": "stdout",
     "output_type": "stream",
     "text": [
      "[7, 0, 0, 0, 0, 0]\n",
      "[0, 7, 7, 7, 7, 0]\n",
      "[0, 7, 7, 7, 7, 0]\n",
      "[0, 7, 7, 7, 7, 0]\n",
      "[0, 7, 7, 7, 7, 0]\n",
      "[0, 0, 0, 0, 0, 7]\n"
     ]
    },
    {
     "data": {
      "text/plain": [
       "14"
      ]
     },
     "execution_count": 8,
     "metadata": {},
     "output_type": "execute_result"
    }
   ],
   "source": [
    "e = \"\\n\".join([\n",
    "  \"700000\",\n",
    "  \"077770\",\n",
    "  \"077770\",\n",
    "  \"077770\",\n",
    "  \"077770\",\n",
    "  \"000007\"\n",
    "])\n",
    "path_finder(e) #14"
   ]
  },
  {
   "cell_type": "code",
   "execution_count": 9,
   "metadata": {},
   "outputs": [
    {
     "name": "stdout",
     "output_type": "stream",
     "text": [
      "[7, 7, 7, 0, 0, 0]\n",
      "[0, 0, 7, 0, 0, 0]\n",
      "[0, 0, 7, 0, 0, 0]\n",
      "[0, 0, 7, 0, 0, 0]\n",
      "[0, 0, 7, 0, 0, 0]\n",
      "[0, 0, 7, 7, 7, 7]\n"
     ]
    },
    {
     "data": {
      "text/plain": [
       "0"
      ]
     },
     "execution_count": 9,
     "metadata": {},
     "output_type": "execute_result"
    }
   ],
   "source": [
    "f = \"\\n\".join([\n",
    "  \"777000\",\n",
    "  \"007000\",\n",
    "  \"007000\",\n",
    "  \"007000\",\n",
    "  \"007000\",\n",
    "  \"007777\"\n",
    "])\n",
    "path_finder(f) #0"
   ]
  },
  {
   "cell_type": "code",
   "execution_count": 10,
   "metadata": {},
   "outputs": [
    {
     "name": "stdout",
     "output_type": "stream",
     "text": [
      "[0, 0, 0, 0, 0, 0]\n",
      "[0, 0, 0, 0, 0, 0]\n",
      "[0, 0, 0, 0, 0, 0]\n",
      "[0, 0, 0, 0, 1, 0]\n",
      "[0, 0, 0, 1, 0, 9]\n",
      "[0, 0, 1, 0, 1, 0]\n"
     ]
    },
    {
     "data": {
      "text/plain": [
       "4"
      ]
     },
     "execution_count": 10,
     "metadata": {},
     "output_type": "execute_result"
    }
   ],
   "source": [
    "g = \"\\n\".join([\n",
    "  \"000000\",\n",
    "  \"000000\",\n",
    "  \"000000\",\n",
    "  \"000010\",\n",
    "  \"000109\",\n",
    "  \"001010\"\n",
    "])\n",
    "path_finder(g) #4"
   ]
  },
  {
   "cell_type": "code",
   "execution_count": 11,
   "metadata": {},
   "outputs": [
    {
     "name": "stdout",
     "output_type": "stream",
     "text": [
      "[3, 0, 4, 9, 1, 1, 0, 3, 8, 2, 0, 6, 4, 9, 8, 7, 7, 9, 2, 3, 8, 8, 1, 0, 2]\n",
      "[9, 4, 4, 7, 7, 8, 2, 5, 5, 0, 4, 7, 8, 4, 4, 5, 6, 1, 2, 8, 5, 9, 2, 5, 2]\n",
      "[5, 8, 5, 7, 6, 0, 1, 4, 7, 1, 5, 5, 2, 1, 0, 3, 5, 9, 6, 4, 7, 1, 4, 8, 7]\n"
     ]
    },
    {
     "data": {
      "text/plain": [
       "8"
      ]
     },
     "execution_count": 11,
     "metadata": {},
     "output_type": "execute_result"
    }
   ],
   "source": [
    "harr = [\n",
    "    [3, 0, 4, 9, 1, 1, 0, 3, 8, 2, 0, 6, 4, 9, 8, 7, 7, 9, 2, 3, 8, 8, 1, 0, 2],\n",
    "    [9, 4, 4, 7, 7, 8, 2, 5, 5, 0, 4, 7, 8, 4, 4, 5, 6, 1, 2, 8, 5, 9, 2, 5, 2],\n",
    "    [5, 8, 5, 7, 6, 0, 1, 4, 7, 1, 5, 5, 2, 1, 0, 3, 5, 9, 6, 4, 7, 1, 4, 8, 7]\n",
    "]\n",
    "h = \"\\n\".join([ \"\".join( [ str(i) for i in l ] ) for l in harr ])\n",
    "path_finder(h)"
   ]
  },
  {
   "cell_type": "code",
   "execution_count": null,
   "metadata": {},
   "outputs": [],
   "source": []
  },
  {
   "cell_type": "code",
   "execution_count": null,
   "metadata": {},
   "outputs": [],
   "source": []
  }
 ],
 "metadata": {
  "kernelspec": {
   "display_name": "Python 3",
   "language": "python",
   "name": "python3"
  },
  "language_info": {
   "codemirror_mode": {
    "name": "ipython",
    "version": 3
   },
   "file_extension": ".py",
   "mimetype": "text/x-python",
   "name": "python",
   "nbconvert_exporter": "python",
   "pygments_lexer": "ipython3",
   "version": "3.5.2"
  },
  "widgets": {
   "state": {},
   "version": "1.1.2"
  }
 },
 "nbformat": 4,
 "nbformat_minor": 2
}
