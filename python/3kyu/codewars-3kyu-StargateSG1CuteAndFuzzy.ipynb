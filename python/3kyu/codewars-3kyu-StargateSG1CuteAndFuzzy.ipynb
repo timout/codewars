{
 "cells": [
  {
   "cell_type": "markdown",
   "metadata": {},
   "source": [
    "## Stargate SG-1: Cute and Fuzzy\n",
    "#### Your Mission\n",
    "Given a string containing the current state of the control crystals inner pathways (labeled as \"X\") and its gaps (labeled as \".\"), generate the shortest path from the start node (labeled as \"S\") to the goal node (labeled as \"G\") and return the new pathway (labeled with \"P\" characters).  \n",
    "If no solution is possible, return the string \"Oh for crying out loud...\" (in frustration).  \n",
    "\n",
    "#### The Rules\n",
    "* Nodes labeled as \"X\" are not traversable.\n",
    "* Nodes labeled as \".\" are traversable.\n",
    "* A pathway can be grown in eight directions (up, down, left, right, up-left, up-right, down-left, down-right), so diagonals are possible.\n",
    "* Nodes labeled \"S\" and \"G\" are not to be replaced with \"P\" in the case of a solution.\n",
    "* The shortest path is defined as the path with the shortest euclidiean distance going from one node to the next.\n",
    "* If several paths are possible with the same shortest distance, return any one of them.  \n",
    "\n",
    "Note that the mazes won't always be squares.\n",
    "```\n",
    ".S...             .SP..\n",
    "XXX..             XXXP.\n",
    ".X.XX      =>     .XPXX\n",
    "..X..             .PX..\n",
    "G...X             G...X\n",
    "```"
   ]
  },
  {
   "cell_type": "code",
   "execution_count": 1,
   "metadata": {},
   "outputs": [],
   "source": [
    "import collections\n",
    "\n",
    "Pos = collections.namedtuple('Pos', ['y', 'x'])\n",
    "\n",
    "class Maze:\n",
    "    def __init__(self, orig):\n",
    "        self.i_steps = [ (0,1), (1,1), (1,0), (1,-1), (0,-1), (-1,-1), (-1,0), (-1,1) ]\n",
    "        self.orig = orig\n",
    "        self.make_maze()\n",
    "        self.g_dist = 2 ** 0.5\n",
    "        \n",
    "    def make_maze(self):\n",
    "        self.y_size = len(self.orig)\n",
    "        self.x_size = len(self.orig[0])\n",
    "        self.maze = [ [0]*len(l) for l in self.orig ]\n",
    "        for y in range(self.y_size):\n",
    "            for x in range(self.x_size):\n",
    "                c = self.orig[y][x]\n",
    "                if c == 'X': \n",
    "                    self.maze[y][x] = -1\n",
    "                elif  c == 'S':\n",
    "                    self.s = Pos(y, x)\n",
    "                elif  c == 'G':\n",
    "                    self.g = Pos(y, x)\n",
    "                    \n",
    "    def is_valid_next_pos(self, p, d): \n",
    "        return (\n",
    "            0 <= p.x < self.x_size and 0 <= p.y < self.y_size and\n",
    "               ( self.maze[p.y][p.x] == 0 or self.maze[p.y][p.x] > d )\n",
    "        )\n",
    "    \n",
    "    def distance(self, p1, p2): \n",
    "        \"\"\"calculate euclidiean distance between 2 neigbours \"\"\"\n",
    "        return 1 if p1.y == p2.y or p1.x == p2.x else self.g_dist\n",
    "\n",
    "    def is_valid_back_pos(self, p): \n",
    "        return 0 <= p.x < self.x_size and 0 <= p.y < self.y_size and self.maze[p.y][p.x] > 0\n",
    "        \n",
    "    def process_current_steps(self, queue):\n",
    "        stack = collections.deque(maxlen=len(queue)*7)\n",
    "        for p in queue:\n",
    "            for i in self.i_steps:\n",
    "                next_p = Pos(p.y + i[0], p.x + i[1])\n",
    "                next_p_d = self.maze[p.y][p.x] + self.distance(p, next_p)\n",
    "                if self.is_valid_next_pos(next_p, next_p_d):\n",
    "                    self.maze[next_p.y][next_p.x] = next_p_d\n",
    "                    if next_p.y == self.g.y and next_p.x == self.g.x: continue\n",
    "                    stack.append(next_p)\n",
    "        return stack\n",
    "\n",
    "    def find_back_smallest_step(self, p):\n",
    "        \"\"\"Find shortest path step back\"\"\"\n",
    "        steps = filter(self.is_valid_back_pos, [ Pos(p.y + i[0], p.x + i[1]) for i in self.i_steps ])\n",
    "        return min(steps, key = lambda s: self.maze[s.y][s.x] + self.distance(s, p))\n",
    "\n",
    "    def find_shortest_back_path(self):\n",
    "        \"\"\"Find shortest path back\"\"\"\n",
    "        p = self.g\n",
    "        while not(p.y == self.s.y and p.x == self.s.x):\n",
    "            p = self.find_back_smallest_step(p)\n",
    "            self.orig[p.y][p.x] = 'P'\n",
    "        self.orig[self.s.y][self.s.x] = 'S'\n",
    "        return self.orig\n",
    "    \n",
    "    def get_path_distance(self): return self.maze[self.g.y][self.g.x] - 1\n",
    "    \n",
    "    def get_path_length(self):\n",
    "        return 1 + len(list(filter( lambda c: c =='P', \"\\n\".join([ \"\".join(l) for l in self.orig ]))))\n",
    "                    \n",
    "    def find_path(self):\n",
    "        stack = collections.deque(maxlen=1)\n",
    "        stack.append(self.s)\n",
    "        self.maze[self.s.y][self.s.x] = 1\n",
    "        while len(stack) > 0: stack = self.process_current_steps(stack)\n",
    "        return self.find_shortest_back_path() if  self.maze[self.g.y][self.g.x] > 0 else False\n",
    "\n",
    "\n",
    "def wire_DHD_SG1(existingWires):\n",
    "    m = [ list(l) for l in existingWires.split('\\n') ]\n",
    "    maze = Maze(m)\n",
    "    r = maze.find_path()\n",
    "    if r:\n",
    "        print(\"Path distance: {}, Path Length: {}\".format(maze.get_path_distance(), maze.get_path_length()))\n",
    "        return [ \"\".join(l) for l in r ] #\"\\n\".join([ \"\".join(l) for l in r ])\n",
    "    return \"Oh for crying out loud...\"    "
   ]
  },
  {
   "cell_type": "code",
   "execution_count": 2,
   "metadata": {},
   "outputs": [
    {
     "name": "stdout",
     "output_type": "stream",
     "text": [
      "...\n",
      "S.G\n",
      "...\n",
      "Path distance: 2, Path Length: 2\n"
     ]
    },
    {
     "data": {
      "text/plain": [
       "['...', 'SPG', '...']"
      ]
     },
     "execution_count": 2,
     "metadata": {},
     "output_type": "execute_result"
    }
   ],
   "source": [
    "s = \"...\\nS.G\\n...\"\n",
    "print(s)\n",
    "wire_DHD_SG1(s)\n"
   ]
  },
  {
   "cell_type": "code",
   "execution_count": 3,
   "metadata": {},
   "outputs": [
    {
     "name": "stdout",
     "output_type": "stream",
     "text": [
      "...\n",
      ".S.\n",
      "...\n",
      ".G.\n",
      "...\n",
      "Path distance: 2, Path Length: 2\n"
     ]
    },
    {
     "data": {
      "text/plain": [
       "['...', '.S.', '.P.', '.G.', '...']"
      ]
     },
     "execution_count": 3,
     "metadata": {},
     "output_type": "execute_result"
    }
   ],
   "source": [
    "s = existingWires = \"...\\n.S.\\n...\\n.G.\\n...\"\n",
    "print(s)\n",
    "wire_DHD_SG1(s)"
   ]
  },
  {
   "cell_type": "code",
   "execution_count": 4,
   "metadata": {},
   "outputs": [
    {
     "data": {
      "text/plain": [
       "'Oh for crying out loud...'"
      ]
     },
     "execution_count": 4,
     "metadata": {},
     "output_type": "execute_result"
    }
   ],
   "source": [
    "s = \"\"\"\n",
    "SX.\n",
    "XX.\n",
    "..G\n",
    "\"\"\".strip('\\n')\n",
    "\n",
    "wire_DHD_SG1(s)"
   ]
  },
  {
   "cell_type": "code",
   "execution_count": 5,
   "metadata": {},
   "outputs": [
    {
     "name": "stdout",
     "output_type": "stream",
     "text": [
      "Path distance: 2.82842712474619, Path Length: 2\n"
     ]
    },
    {
     "data": {
      "text/plain": [
       "['SX.', 'XP.', 'XXG']"
      ]
     },
     "execution_count": 5,
     "metadata": {},
     "output_type": "execute_result"
    }
   ],
   "source": [
    "s = existingWires = \"\"\"\n",
    "SX.\n",
    "X..\n",
    "XXG\n",
    "\"\"\".strip('\\n')\n",
    "wire_DHD_SG1(s)"
   ]
  },
  {
   "cell_type": "code",
   "execution_count": 6,
   "metadata": {},
   "outputs": [
    {
     "name": "stdout",
     "output_type": "stream",
     "text": [
      "Path distance: 23.142135623730955, Path Length: 19\n"
     ]
    },
    {
     "data": {
      "text/plain": [
       "['.X.X.X....XXXXXX...X',\n",
       " 'XX.XX.XXXXXXXXXXX..X',\n",
       " '.X.X.XX..X..X.XXXXXX',\n",
       " 'X.X..XXX...XX.X.XXX.',\n",
       " 'X.X..X..XXX.X.X.X...',\n",
       " '.XXX..XXXXX.X.X..XX.',\n",
       " 'X.XX.SX......XXX..X.',\n",
       " '.XXXXXPXXX...XXP.X..',\n",
       " '....XPXX..X.XXPXP.XX',\n",
       " '....XP.XX..XX.PXPXX.',\n",
       " 'X...X.PXX.X.XPXX.P.X',\n",
       " '.XXX...PPPPPPX.XX.PG',\n",
       " '..XX.XX.XX.X.XXXXXX.',\n",
       " '.X.X...X.X.XXXX..X.X',\n",
       " '..X..XXX.XX....XXXX.',\n",
       " 'XX..XXXXXXX.....XXXX',\n",
       " 'XXXX.X.X..XXXXXX...X',\n",
       " 'X...X..X..XXXX..X..X',\n",
       " 'X.XXXXX..XX..XXX.X.X',\n",
       " 'XX.X.XX.XXXX.X..X.XX']"
      ]
     },
     "execution_count": 6,
     "metadata": {},
     "output_type": "execute_result"
    }
   ],
   "source": [
    "s = \"\"\"\n",
    ".X.X.X....XXXXXX...X\n",
    "XX.XX.XXXXXXXXXXX..X\n",
    ".X.X.XX..X..X.XXXXXX\n",
    "X.X..XXX...XX.X.XXX.\n",
    "X.X..X..XXX.X.X.X...\n",
    ".XXX..XXXXX.X.X..XX.\n",
    "X.XX.SX......XXX..X.\n",
    ".XXXXX.XXX...XX..X..\n",
    "....X.XX..X.XX.X..XX\n",
    "....X..XX..XX..X.XX.\n",
    "X...X..XX.X.X.XX...X\n",
    ".XXX.........X.XX..G\n",
    "..XX.XX.XX.X.XXXXXX.\n",
    ".X.X...X.X.XXXX..X.X\n",
    "..X..XXX.XX....XXXX.\n",
    "XX..XXXXXXX.....XXXX\n",
    "XXXX.X.X..XXXXXX...X\n",
    "X...X..X..XXXX..X..X\n",
    "X.XXXXX..XX..XXX.X.X\n",
    "XX.X.XX.XXXX.X..X.XX\n",
    "\"\"\".strip('\\n')\n",
    "\n",
    "wire_DHD_SG1(s)"
   ]
  },
  {
   "cell_type": "code",
   "execution_count": null,
   "metadata": {},
   "outputs": [],
   "source": []
  }
 ],
 "metadata": {
  "kernelspec": {
   "display_name": "Python 3",
   "language": "python",
   "name": "python3"
  },
  "language_info": {
   "codemirror_mode": {
    "name": "ipython",
    "version": 3
   },
   "file_extension": ".py",
   "mimetype": "text/x-python",
   "name": "python",
   "nbconvert_exporter": "python",
   "pygments_lexer": "ipython3",
   "version": "3.5.2"
  },
  "widgets": {
   "state": {},
   "version": "1.1.2"
  }
 },
 "nbformat": 4,
 "nbformat_minor": 2
}
