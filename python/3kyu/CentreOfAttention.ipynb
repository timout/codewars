{
 "cells": [
  {
   "cell_type": "markdown",
   "metadata": {},
   "source": [
    "### Centre of attention\n",
    "\n",
    "For this kata, we're given an image in which some object of interest (e.g. a face, or a license plate, or an aircraft) appears as a large block of contiguous pixels all of the same colour. (Probably some image-processing has already occurred to achieve this, but we needn't worry about that.) We want to find the centre of the object in the image.  \n",
    "We'll do this by finding which pixels of the given colour have maximum depth. The depth of a pixel P is the minimum number of steps (up, down, left, or right) you have to take from P to reach either a pixel of a different colour or the edge of the image. \n",
    "In the picture, the red pixel marked \"3\" has a depth of 3: it takes at least 3 steps from there to reach something other than another red pixel. Note that the steps need not be all in the same direction. Only one red pixel has depth 3: the one right in the middle of the red region. Similarly, the blue pixel marked \"2\" has a depth of 2 (but it is not the only one with this depth). The green and purple pixels all have depth 1.  \n",
    "The pixels of a given colour with the largest depth will be found at the centre of the biggest solid region of that colour. Those are the ones we want.  \n",
    "\n",
    "The function you'll write (central_pixels) belongs to the following data structure:  \n",
    "`\n",
    "class Image:\n",
    "  def __init__(self, data, w, h): \n",
    "    self.pixels = data\n",
    "    self.width = w\n",
    "    self.height = h\n",
    "`  \n",
    "The image data consists of a one-dimensional array pixels of unsigned integers (or just integers, in languages that don't have unsigned integers as such), which correspond to pixels in row-by-row order. (That is, the top row of pixels comes first, from left to right, then the second row, and so on, with the pixel in the bottom right corner last of all.) The values of the pixels array elements represent colours via some one-to-one mapping whose details need not concern us.  \n",
    "The central_pixels function should find and return all the positions (pixels array indices) of the pixels having the greatest depth among all pixels of colour colour).  \n",
    "Note 1. The final test in the suite (Big_Test) is a 16-megapixel image (4 megapixels in the Python version), so you will need to consider the time and space requirements of your solution for images up to that size.  \n",
    "Note 2. The data in an Image object should not be assumed to be constant after instantiation. The test suite frequently modifies images and then re-tests them.  \n",
    "Hint. It is possible to get this done in two passes through the pixel data.  "
   ]
  },
  {
   "cell_type": "code",
   "execution_count": 28,
   "metadata": {},
   "outputs": [],
   "source": [
    "class Image:\n",
    "    def __init__(self, data, w, h): \n",
    "        self.pixels = data\n",
    "        self.width = w\n",
    "        self.height = h\n",
    "\n",
    "class Central_Pixels_Finder(Image):\n",
    "\n",
    "    def central_pixels(self, colour):\n",
    "        arr = [ [0]*self.width for i in range(self.height) ]\n",
    "        for x in range(0, self.width):\n",
    "            if self.pixels[x] == colour: arr[0][x] = 1\n",
    "            l = self.width*(self.height-1) \n",
    "            if self.pixels[l+x] == colour: arr[self.height-1][x] = 1 \n",
    "        for x in range(1, self.height):\n",
    "            if self.pixels[self.width*x] == colour: arr[x][0] = 1\n",
    "            if self.pixels[self.width*(x+1)-1] == colour: arr[x][self.width-1] = 1\n",
    "        \n",
    "        for y in range(1, self.height-1):\n",
    "            for x in range(1, self.width-1):\n",
    "                c = self.width * y + x\n",
    "                if self.pixels[c] == colour:\n",
    "                    arr[y][x] = min(arr[y-1][x]+1, arr[y][x-1]+1)\n",
    "\n",
    "        m = 1\n",
    "        for y in range(self.height-2, 0, -1):\n",
    "            for x in range(self.width-2, 0, -1):\n",
    "                c = self.width * y + x\n",
    "                if self.pixels[c] == colour:\n",
    "                    arr[y][x] = min(arr[y+1][x]+1, arr[y][x+1]+1, arr[y][x])\n",
    "                    if m < arr[y][x]: m = arr[y][x]\n",
    "        \n",
    "        res = []\n",
    "        for y in range(0, self.height):\n",
    "            for x in range(0, self.width):\n",
    "                if m == arr[y][x]: res.append(self.width * y + x)\n",
    "                \n",
    "        print(m)        \n",
    "        return res"
   ]
  },
  {
   "cell_type": "code",
   "execution_count": 29,
   "metadata": {},
   "outputs": [
    {
     "name": "stdout",
     "output_type": "stream",
     "text": [
      "3\n"
     ]
    },
    {
     "data": {
      "text/plain": [
       "[32]"
      ]
     },
     "execution_count": 29,
     "metadata": {},
     "output_type": "execute_result"
    }
   ],
   "source": [
    "image = Central_Pixels_Finder( [1,1,4,4,4,4,2,2,2,2,\n",
    "                                1,1,1,1,2,2,2,2,2,2,\n",
    "                                1,1,1,1,2,2,2,2,2,2,\n",
    "                                1,1,1,1,1,3,2,2,2,2,\n",
    "                                1,1,1,1,1,3,3,3,2,2,\n",
    "                                1,1,1,1,1,1,3,3,3,3], 10, 6 );\n",
    "\n",
    "# Only one red pixel has the maximum depth of 3: [32]\n",
    "image.central_pixels(1)\n"
   ]
  },
  {
   "cell_type": "code",
   "execution_count": 30,
   "metadata": {},
   "outputs": [
    {
     "name": "stdout",
     "output_type": "stream",
     "text": [
      "2\n"
     ]
    },
    {
     "data": {
      "text/plain": [
       "[16, 17, 18, 26, 27, 28, 38]"
      ]
     },
     "execution_count": 30,
     "metadata": {},
     "output_type": "execute_result"
    }
   ],
   "source": [
    "# Multiple blue pixels have the maximum depth of 2:\n",
    "#blue_ctr = [ 16,17,18,26,27,28,38 ];\n",
    "sorted(image.central_pixels(2))\n"
   ]
  },
  {
   "cell_type": "code",
   "execution_count": 31,
   "metadata": {},
   "outputs": [
    {
     "name": "stdout",
     "output_type": "stream",
     "text": [
      "1\n"
     ]
    },
    {
     "data": {
      "text/plain": [
       "[35, 45, 46, 47, 56, 57, 58, 59]"
      ]
     },
     "execution_count": 31,
     "metadata": {},
     "output_type": "execute_result"
    }
   ],
   "source": [
    "# All the green pixels have depth 1, so they are all \"central\":\n",
    "#green_ctr = [ 35,45,46,47,56,57,58,59 ];\n",
    "sorted(image.central_pixels(3))"
   ]
  },
  {
   "cell_type": "code",
   "execution_count": 32,
   "metadata": {},
   "outputs": [
    {
     "name": "stdout",
     "output_type": "stream",
     "text": [
      "1\n"
     ]
    },
    {
     "data": {
      "text/plain": [
       "[2, 3, 4, 5]"
      ]
     },
     "execution_count": 32,
     "metadata": {},
     "output_type": "execute_result"
    }
   ],
   "source": [
    "# Similarly, all the purple pixels have depth 1:\n",
    "#purple_ctr = [ 2,3,4,5 ];\n",
    "sorted(image.central_pixels(4))"
   ]
  },
  {
   "cell_type": "code",
   "execution_count": 33,
   "metadata": {},
   "outputs": [
    {
     "name": "stdout",
     "output_type": "stream",
     "text": [
      "1\n"
     ]
    },
    {
     "data": {
      "text/plain": [
       "[]"
      ]
     },
     "execution_count": 33,
     "metadata": {},
     "output_type": "execute_result"
    }
   ],
   "source": [
    "# There are no pixels with colour 5:\n",
    "#non_existent_ctr = [ ];\n",
    "image.central_pixels(5)"
   ]
  }
 ],
 "metadata": {
  "kernelspec": {
   "display_name": "Python 3",
   "language": "python",
   "name": "python3"
  },
  "language_info": {
   "codemirror_mode": {
    "name": "ipython",
    "version": 3
   },
   "file_extension": ".py",
   "mimetype": "text/x-python",
   "name": "python",
   "nbconvert_exporter": "python",
   "pygments_lexer": "ipython3",
   "version": "3.7.2"
  }
 },
 "nbformat": 4,
 "nbformat_minor": 2
}
