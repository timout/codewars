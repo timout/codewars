{
 "cells": [
  {
   "cell_type": "markdown",
   "metadata": {},
   "source": [
    "### Centre of attention\n"
   ]
  },
  {
   "cell_type": "code",
   "execution_count": 28,
   "metadata": {},
   "outputs": [],
   "source": [
    "class Image:\n",
    "    def __init__(self, data, w, h): \n",
    "        self.pixels = data\n",
    "        self.width = w\n",
    "        self.height = h\n",
    "\n",
    "class Central_Pixels_Finder(Image):\n",
    "\n",
    "    def central_pixels(self, colour):\n",
    "        arr = [ [0]*self.width for i in range(self.height) ]\n",
    "        for x in range(0, self.width):\n",
    "            if self.pixels[x] == colour: arr[0][x] = 1\n",
    "            l = self.width*(self.height-1) \n",
    "            if self.pixels[l+x] == colour: arr[self.height-1][x] = 1 \n",
    "        for x in range(1, self.height):\n",
    "            if self.pixels[self.width*x] == colour: arr[x][0] = 1\n",
    "            if self.pixels[self.width*(x+1)-1] == colour: arr[x][self.width-1] = 1\n",
    "        \n",
    "        for y in range(1, self.height-1):\n",
    "            for x in range(1, self.width-1):\n",
    "                c = self.width * y + x\n",
    "                if self.pixels[c] == colour:\n",
    "                    arr[y][x] = min(arr[y-1][x]+1, arr[y][x-1]+1)\n",
    "\n",
    "        m = 1\n",
    "        for y in range(self.height-2, 0, -1):\n",
    "            for x in range(self.width-2, 0, -1):\n",
    "                c = self.width * y + x\n",
    "                if self.pixels[c] == colour:\n",
    "                    arr[y][x] = min(arr[y+1][x]+1, arr[y][x+1]+1, arr[y][x])\n",
    "                    if m < arr[y][x]: m = arr[y][x]\n",
    "        \n",
    "        res = []\n",
    "        for y in range(0, self.height):\n",
    "            for x in range(0, self.width):\n",
    "                if m == arr[y][x]: res.append(self.width * y + x)\n",
    "                \n",
    "        print(m)        \n",
    "        return res"
   ]
  },
  {
   "cell_type": "code",
   "execution_count": 29,
   "metadata": {},
   "outputs": [
    {
     "name": "stdout",
     "output_type": "stream",
     "text": [
      "3\n"
     ]
    },
    {
     "data": {
      "text/plain": [
       "[32]"
      ]
     },
     "execution_count": 29,
     "metadata": {},
     "output_type": "execute_result"
    }
   ],
   "source": [
    "image = Central_Pixels_Finder( [1,1,4,4,4,4,2,2,2,2,\n",
    "                                1,1,1,1,2,2,2,2,2,2,\n",
    "                                1,1,1,1,2,2,2,2,2,2,\n",
    "                                1,1,1,1,1,3,2,2,2,2,\n",
    "                                1,1,1,1,1,3,3,3,2,2,\n",
    "                                1,1,1,1,1,1,3,3,3,3], 10, 6 );\n",
    "\n",
    "# Only one red pixel has the maximum depth of 3: [32]\n",
    "image.central_pixels(1)\n"
   ]
  },
  {
   "cell_type": "code",
   "execution_count": 30,
   "metadata": {},
   "outputs": [
    {
     "name": "stdout",
     "output_type": "stream",
     "text": [
      "2\n"
     ]
    },
    {
     "data": {
      "text/plain": [
       "[16, 17, 18, 26, 27, 28, 38]"
      ]
     },
     "execution_count": 30,
     "metadata": {},
     "output_type": "execute_result"
    }
   ],
   "source": [
    "# Multiple blue pixels have the maximum depth of 2:\n",
    "#blue_ctr = [ 16,17,18,26,27,28,38 ];\n",
    "sorted(image.central_pixels(2))\n"
   ]
  },
  {
   "cell_type": "code",
   "execution_count": 31,
   "metadata": {},
   "outputs": [
    {
     "name": "stdout",
     "output_type": "stream",
     "text": [
      "1\n"
     ]
    },
    {
     "data": {
      "text/plain": [
       "[35, 45, 46, 47, 56, 57, 58, 59]"
      ]
     },
     "execution_count": 31,
     "metadata": {},
     "output_type": "execute_result"
    }
   ],
   "source": [
    "# All the green pixels have depth 1, so they are all \"central\":\n",
    "#green_ctr = [ 35,45,46,47,56,57,58,59 ];\n",
    "sorted(image.central_pixels(3))"
   ]
  },
  {
   "cell_type": "code",
   "execution_count": 32,
   "metadata": {},
   "outputs": [
    {
     "name": "stdout",
     "output_type": "stream",
     "text": [
      "1\n"
     ]
    },
    {
     "data": {
      "text/plain": [
       "[2, 3, 4, 5]"
      ]
     },
     "execution_count": 32,
     "metadata": {},
     "output_type": "execute_result"
    }
   ],
   "source": [
    "# Similarly, all the purple pixels have depth 1:\n",
    "#purple_ctr = [ 2,3,4,5 ];\n",
    "sorted(image.central_pixels(4))"
   ]
  },
  {
   "cell_type": "code",
   "execution_count": 33,
   "metadata": {},
   "outputs": [
    {
     "name": "stdout",
     "output_type": "stream",
     "text": [
      "1\n"
     ]
    },
    {
     "data": {
      "text/plain": [
       "[]"
      ]
     },
     "execution_count": 33,
     "metadata": {},
     "output_type": "execute_result"
    }
   ],
   "source": [
    "# There are no pixels with colour 5:\n",
    "#non_existent_ctr = [ ];\n",
    "image.central_pixels(5)"
   ]
  }
 ],
 "metadata": {
  "kernelspec": {
   "display_name": "Python 3",
   "language": "python",
   "name": "python3"
  },
  "language_info": {
   "codemirror_mode": {
    "name": "ipython",
    "version": 3
   },
   "file_extension": ".py",
   "mimetype": "text/x-python",
   "name": "python",
   "nbconvert_exporter": "python",
   "pygments_lexer": "ipython3",
   "version": "3.7.2"
  }
 },
 "nbformat": 4,
 "nbformat_minor": 2
}
