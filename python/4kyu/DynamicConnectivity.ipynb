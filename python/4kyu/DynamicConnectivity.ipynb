{
 "cells": [
  {
   "cell_type": "markdown",
   "metadata": {},
   "source": [
    "### Dynamic Connectivity\n",
    "\n",
    "Disjoint-Set data structure"
   ]
  },
  {
   "cell_type": "code",
   "execution_count": 5,
   "metadata": {},
   "outputs": [],
   "source": [
    "class DynamicConnectivity(object):\n",
    "    \n",
    "    def __init__(self, n):\n",
    "        self.n = n\n",
    "        self.set_map = {} # parent map\n",
    "        self.rank = {}    # rank map\n",
    "        for i in range(0, n):\n",
    "            self.set_map[i] = i\n",
    "            self.rank[i] = 0\n",
    "            \n",
    "    def find_root(self, i):\n",
    "        \"\"\" find root and compress \"\"\"\n",
    "        r = self.set_map[i] # find root\n",
    "        if r != i:\n",
    "            self.set_map[i] = self.find_root(r) # compression\n",
    "        return self.set_map[i] # find from compressed\n",
    "        \n",
    "    def union(self, i1, i2):\n",
    "        r1 = self.find_root(i1)\n",
    "        r2 = self.find_root(i2)\n",
    "        if r1 == r2: return\n",
    "        # get root ranks \n",
    "        rank1 = self.rank[r1] \n",
    "        rank2 = self.rank[r2]\n",
    "        # attach smaller to larger\n",
    "        if rank1 > rank2:\n",
    "            self.set_map[r2] = r1\n",
    "        elif rank1 < rank2:\n",
    "            self.set_map[r1] = r2\n",
    "        else:\n",
    "            # if equals attach r1 to r2 and increase rank of r2\n",
    "            self.set_map[r1] = r2\n",
    "            self.rank[r2] = self.rank[r2] + 1\n",
    "        \n",
    "    def connected(self, i1, i2):\n",
    "        r1 = self.find_root(i1)\n",
    "        r2 = self.find_root(i2)\n",
    "        return r1 == r2\n",
    "    "
   ]
  },
  {
   "cell_type": "code",
   "execution_count": 7,
   "metadata": {},
   "outputs": [],
   "source": [
    "results1 = DynamicConnectivity(10)\n",
    "results1.union(4,3)\n",
    "results1.union(3,8)\n",
    "results1.union(6,5)\n",
    "results1.union(9,4)\n",
    "results1.union(2,1)"
   ]
  },
  {
   "cell_type": "code",
   "execution_count": 8,
   "metadata": {},
   "outputs": [
    {
     "data": {
      "text/plain": [
       "True"
      ]
     },
     "execution_count": 8,
     "metadata": {},
     "output_type": "execute_result"
    }
   ],
   "source": [
    "results1.connected(0,7) == False"
   ]
  },
  {
   "cell_type": "code",
   "execution_count": 9,
   "metadata": {},
   "outputs": [
    {
     "data": {
      "text/plain": [
       "True"
      ]
     },
     "execution_count": 9,
     "metadata": {},
     "output_type": "execute_result"
    }
   ],
   "source": [
    "results1.connected(8,9) == True"
   ]
  },
  {
   "cell_type": "code",
   "execution_count": null,
   "metadata": {},
   "outputs": [],
   "source": []
  }
 ],
 "metadata": {
  "kernelspec": {
   "display_name": "Python 3",
   "language": "python",
   "name": "python3"
  },
  "language_info": {
   "codemirror_mode": {
    "name": "ipython",
    "version": 3
   },
   "file_extension": ".py",
   "mimetype": "text/x-python",
   "name": "python",
   "nbconvert_exporter": "python",
   "pygments_lexer": "ipython3",
   "version": "3.7.2"
  },
  "toc": {
   "base_numbering": 1,
   "nav_menu": {},
   "number_sections": false,
   "sideBar": false,
   "skip_h1_title": false,
   "title_cell": "Table of Contents",
   "title_sidebar": "Contents",
   "toc_cell": false,
   "toc_position": {},
   "toc_section_display": false,
   "toc_window_display": false
  }
 },
 "nbformat": 4,
 "nbformat_minor": 2
}
