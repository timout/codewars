{
 "cells": [
  {
   "cell_type": "markdown",
   "metadata": {},
   "source": [
    "### Instant Runoff Voting  \n",
    "\n",
    "- Each voter selects several candidates in order of preference.\n",
    "- The votes are tallied from the each voter's first choice.\n",
    "- If the first-place candidate has more than half the total votes, they win.\n",
    "- Otherwise, find the candidate who got the least votes and remove them from each person's voting list.\n",
    "- In case of a tie for least, remove all of the tying candidates.\n",
    "- In case of a complete tie between every candidate, return None.\n",
    "- Start over.\n",
    "- Continue until somebody has more than half the votes; they are the winner.  \n",
    "\n"
   ]
  },
  {
   "cell_type": "code",
   "execution_count": 35,
   "metadata": {},
   "outputs": [],
   "source": [
    "def runoff(lst):\n",
    "    if not lst: return None\n",
    "    v_num = len(lst)\n",
    "    if v_num == 1: return lst[0][0]\n",
    "    half = v_num / 2\n",
    "    c_map = { c: list()  for c in lst[0] } # build candidates map\n",
    "    for b in lst: c_map.get(b[0]).append(b) # calculate votes as per first item on ballots\n",
    "    is_end = False\n",
    "    erased = set()\n",
    "    while not is_end:\n",
    "        # map to [c_name, num of votes] and sort (desc) by num of ballots\n",
    "        c_lst = sorted(map(lambda c: [c[0], len(c[1])], c_map.items()), key=lambda c: c[1], reverse=True) \n",
    "        if c_lst[0][1] > half: return c_lst[0][0] # return first with > half of votes\n",
    "        least = c_lst[-1][1] # least num of votes\n",
    "        i = len(c_lst)-1\n",
    "        while i >= 0 and c_lst[i][1] == least:\n",
    "            c_name = c_lst[i][0]\n",
    "            c_votes = c_map.pop(c_name) # get candidate votes list and remove candidate from list \n",
    "            erased.add(c_name)  # add candidate name to erased\n",
    "            for b in c_votes:\n",
    "                while len(b) > 0 and b[0] in erased:\n",
    "                    b = b[1:]  # remove a candidate from ballot\n",
    "                if len(b) > 0:\n",
    "                    c_map.get(b[0]).append(b) # use next on ballot for vote\n",
    "            i -= 1\n",
    "        is_end =  (i < 0)  # no winner, equal num of votes  \n",
    "    return None    \n",
    "        "
   ]
  },
  {
   "cell_type": "code",
   "execution_count": 36,
   "metadata": {},
   "outputs": [
    {
     "data": {
      "text/plain": [
       "'ind'"
      ]
     },
     "execution_count": 36,
     "metadata": {},
     "output_type": "execute_result"
    }
   ],
   "source": [
    "voters = [[\"dem\", \"ind\", \"rep\"],\n",
    "          [\"rep\", \"ind\", \"dem\"],\n",
    "          [\"ind\", \"dem\", \"rep\"],\n",
    "          [\"ind\", \"rep\", \"dem\"]]\n",
    "\n",
    "runoff(voters) # \"ind\""
   ]
  },
  {
   "cell_type": "code",
   "execution_count": 37,
   "metadata": {},
   "outputs": [],
   "source": [
    "voters = [[\"a\", \"c\", \"d\", \"e\", \"b\"],\n",
    "         [\"e\", \"b\", \"d\", \"c\", \"a\"],\n",
    "         [\"d\", \"e\", \"c\", \"a\", \"b\"],\n",
    "         [\"c\", \"e\", \"d\", \"b\", \"a\"],\n",
    "         [\"b\", \"e\", \"a\", \"c\", \"d\"]];\n",
    "runoff(voters) # None"
   ]
  },
  {
   "cell_type": "code",
   "execution_count": 38,
   "metadata": {},
   "outputs": [
    {
     "data": {
      "text/plain": [
       "'Drake Luft'"
      ]
     },
     "execution_count": 38,
     "metadata": {},
     "output_type": "execute_result"
    }
   ],
   "source": [
    "voters = [['Brian J. Mason', 'Frank Underwood', 'Reinhard von Musel', 'Johan Liebert', 'Gihren Zabi', 'Drake Luft'], \n",
    "          ['Drake Luft', 'Frank Underwood', 'Gihren Zabi', 'Reinhard von Musel', 'Johan Liebert', 'Brian J. Mason'], \n",
    "          ['Reinhard von Musel', 'Johan Liebert', 'Gihren Zabi', 'Frank Underwood', 'Drake Luft', 'Brian J. Mason'], \n",
    "          ['Drake Luft', 'Gihren Zabi', 'Frank Underwood', 'Johan Liebert', 'Brian J. Mason', 'Reinhard von Musel'], \n",
    "          ['Johan Liebert', 'Reinhard von Musel', 'Frank Underwood', 'Drake Luft', 'Gihren Zabi', 'Brian J. Mason']]\n",
    "runoff(voters)\n",
    "#It should work for random inputs too: 'Frank Underwood' should equal 'Drake Luft'"
   ]
  },
  {
   "cell_type": "code",
   "execution_count": null,
   "metadata": {},
   "outputs": [],
   "source": []
  }
 ],
 "metadata": {
  "kernelspec": {
   "display_name": "Python 3",
   "language": "python",
   "name": "python3"
  },
  "language_info": {
   "codemirror_mode": {
    "name": "ipython",
    "version": 3
   },
   "file_extension": ".py",
   "mimetype": "text/x-python",
   "name": "python",
   "nbconvert_exporter": "python",
   "pygments_lexer": "ipython3",
   "version": "3.7.2"
  },
  "toc": {
   "base_numbering": 1,
   "nav_menu": {},
   "number_sections": false,
   "sideBar": false,
   "skip_h1_title": false,
   "title_cell": "Table of Contents",
   "title_sidebar": "Contents",
   "toc_cell": false,
   "toc_position": {},
   "toc_section_display": false,
   "toc_window_display": false
  }
 },
 "nbformat": 4,
 "nbformat_minor": 2
}
