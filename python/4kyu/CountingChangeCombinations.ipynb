{
 "cells": [
  {
   "cell_type": "markdown",
   "metadata": {},
   "source": [
    "### Counting Change Combinations"
   ]
  },
  {
   "cell_type": "code",
   "execution_count": 13,
   "metadata": {},
   "outputs": [],
   "source": [
    "def fn(p, n, coins):\n",
    "    if p >= len(coins) or n < 0: return 0\n",
    "    if n == 0: return 1\n",
    "    return fn(p, n - coins[p], coins) + fn(p+1, n, coins)\n",
    "\n",
    "def count_change_rec(n, coins):\n",
    "    if not n or not coins: return 0\n",
    "    msize = n + 1\n",
    "    return fn(0, n, coins)"
   ]
  },
  {
   "cell_type": "code",
   "execution_count": 32,
   "metadata": {},
   "outputs": [],
   "source": [
    "def count_change_dp(n, coins):\n",
    "    if not n or not coins: return 0\n",
    "    msize = n + 1\n",
    "    coins.sort()\n",
    "    l_s = len(coins)\n",
    "    mat = [ [0] * l_s for i in range(0, msize) ]\n",
    "    for i in range (0, l_s): mat[0][i] = 1\n",
    "    for i in range(1, msize):\n",
    "        for j in range(0, l_s):\n",
    "            c = coins[j] \n",
    "            if c > i: break\n",
    "            if mat[i - c][j] > 0:\n",
    "                mat[i][j] = mat[i - c][j] # with current coin\n",
    "            mat[i][j] += mat[i][j-1]      # without current coin\n",
    "\n",
    "    print(mat)\n",
    "    return mat[msize-1][l_s-1]\n",
    "        "
   ]
  },
  {
   "cell_type": "code",
   "execution_count": 33,
   "metadata": {},
   "outputs": [
    {
     "name": "stdout",
     "output_type": "stream",
     "text": [
      "[[1, 1], [1, 0], [1, 2], [1, 1], [1, 3]]\n"
     ]
    },
    {
     "data": {
      "text/plain": [
       "3"
      ]
     },
     "execution_count": 33,
     "metadata": {},
     "output_type": "execute_result"
    }
   ],
   "source": [
    "count_change_dp(4, [1,2])"
   ]
  },
  {
   "cell_type": "code",
   "execution_count": 34,
   "metadata": {},
   "outputs": [
    {
     "data": {
      "text/plain": [
       "4"
      ]
     },
     "execution_count": 34,
     "metadata": {},
     "output_type": "execute_result"
    }
   ],
   "source": [
    "count_change_r(10, [5,2,3])"
   ]
  },
  {
   "cell_type": "code",
   "execution_count": 31,
   "metadata": {},
   "outputs": [
    {
     "data": {
      "text/plain": [
       "0"
      ]
     },
     "execution_count": 31,
     "metadata": {},
     "output_type": "execute_result"
    }
   ],
   "source": [
    "count_change_r(11, [5,7]) "
   ]
  },
  {
   "cell_type": "code",
   "execution_count": null,
   "metadata": {},
   "outputs": [],
   "source": []
  }
 ],
 "metadata": {
  "kernelspec": {
   "display_name": "Python 3",
   "language": "python",
   "name": "python3"
  },
  "language_info": {
   "codemirror_mode": {
    "name": "ipython",
    "version": 3
   },
   "file_extension": ".py",
   "mimetype": "text/x-python",
   "name": "python",
   "nbconvert_exporter": "python",
   "pygments_lexer": "ipython3",
   "version": "3.7.2"
  },
  "toc": {
   "base_numbering": 1,
   "nav_menu": {},
   "number_sections": false,
   "sideBar": false,
   "skip_h1_title": false,
   "title_cell": "Table of Contents",
   "title_sidebar": "Contents",
   "toc_cell": false,
   "toc_position": {},
   "toc_section_display": false,
   "toc_window_display": false
  }
 },
 "nbformat": 4,
 "nbformat_minor": 2
}
