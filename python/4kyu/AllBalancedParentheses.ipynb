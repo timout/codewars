{
 "cells": [
  {
   "cell_type": "markdown",
   "metadata": {},
   "source": [
    "### All Balanced Parentheses\n"
   ]
  },
  {
   "cell_type": "markdown",
   "metadata": {},
   "source": [
    "Write a function which makes a list of strings representing all of the ways you can balance n pairs of parentheses\n",
    "#### Examples\n",
    "- balancedParens 0 -> [\"\"]\n",
    "- balancedParens 1 -> [\"()\"]\n",
    "- balancedParens 2 -> [\"()()\",\"(())\"]\n",
    "- balancedParens 3 -> [\"()()()\",\"(())()\",\"()(())\",\"(()())\",\"((()))\"]"
   ]
  },
  {
   "cell_type": "code",
   "execution_count": 1,
   "metadata": {},
   "outputs": [],
   "source": [
    "\n",
    "def balancedParens(n):\n",
    "    if n <= 0: return [\"\"]\n",
    "    if n == 1: return [\"()\"]\n",
    "    prev = balancedParens(n-1)\n",
    "    s = set()\n",
    "    for v in prev:\n",
    "        for i in range(0, len(v)):\n",
    "            s.add(v[0:i] + \"()\" + v[i:])\n",
    "    return list(s)\n",
    "    \n",
    "    "
   ]
  },
  {
   "cell_type": "code",
   "execution_count": 2,
   "metadata": {},
   "outputs": [
    {
     "data": {
      "text/plain": [
       "['']"
      ]
     },
     "execution_count": 2,
     "metadata": {},
     "output_type": "execute_result"
    }
   ],
   "source": [
    "balancedParens(0)"
   ]
  },
  {
   "cell_type": "code",
   "execution_count": 3,
   "metadata": {},
   "outputs": [
    {
     "data": {
      "text/plain": [
       "['()']"
      ]
     },
     "execution_count": 3,
     "metadata": {},
     "output_type": "execute_result"
    }
   ],
   "source": [
    "balancedParens(1)"
   ]
  },
  {
   "cell_type": "code",
   "execution_count": 4,
   "metadata": {},
   "outputs": [
    {
     "data": {
      "text/plain": [
       "['()()', '(())']"
      ]
     },
     "execution_count": 4,
     "metadata": {},
     "output_type": "execute_result"
    }
   ],
   "source": [
    "balancedParens(2)"
   ]
  },
  {
   "cell_type": "code",
   "execution_count": 5,
   "metadata": {},
   "outputs": [
    {
     "data": {
      "text/plain": [
       "['(())()', '(()())', '()()()', '()(())', '((()))']"
      ]
     },
     "execution_count": 5,
     "metadata": {},
     "output_type": "execute_result"
    }
   ],
   "source": [
    "balancedParens(3)"
   ]
  },
  {
   "cell_type": "code",
   "execution_count": 6,
   "metadata": {},
   "outputs": [
    {
     "data": {
      "text/plain": [
       "['(()())()',\n",
       " '(((())))',\n",
       " '(())()()',\n",
       " '(())(())',\n",
       " '()()()()',\n",
       " '(()(()))',\n",
       " '()(())()',\n",
       " '((()))()',\n",
       " '(()()())',\n",
       " '()()(())',\n",
       " '((()()))',\n",
       " '()(()())',\n",
       " '((())())',\n",
       " '()((()))']"
      ]
     },
     "execution_count": 6,
     "metadata": {},
     "output_type": "execute_result"
    }
   ],
   "source": [
    "balancedParens(4)"
   ]
  },
  {
   "cell_type": "code",
   "execution_count": 7,
   "metadata": {},
   "outputs": [
    {
     "data": {
      "text/plain": [
       "['(())()(())',\n",
       " '()()()(())',\n",
       " '()(()()())',\n",
       " '((()())())',\n",
       " '(((())()))',\n",
       " '(()()(()))',\n",
       " '(())()()()',\n",
       " '(((()())))',\n",
       " '()()(()())',\n",
       " '((()(())))',\n",
       " '()()((()))',\n",
       " '((()))()()',\n",
       " '((()()))()',\n",
       " '()(((())))',\n",
       " '(()()())()',\n",
       " '()((()()))',\n",
       " '()(())()()',\n",
       " '()((()))()',\n",
       " '((()))(())',\n",
       " '(())(())()',\n",
       " '()()(())()',\n",
       " '()(()())()',\n",
       " '(()(()))()',\n",
       " '((())()())',\n",
       " '(((()))())',\n",
       " '()((())())',\n",
       " '(()()()())',\n",
       " '(((())))()',\n",
       " '(())((()))',\n",
       " '()(())(())',\n",
       " '(()())(())',\n",
       " '()(()(()))',\n",
       " '(()(()()))',\n",
       " '((((()))))',\n",
       " '(()(())())',\n",
       " '((())(()))',\n",
       " '()()()()()',\n",
       " '((())())()',\n",
       " '(())(()())',\n",
       " '((()()()))',\n",
       " '(()())()()',\n",
       " '(()((())))']"
      ]
     },
     "execution_count": 7,
     "metadata": {},
     "output_type": "execute_result"
    }
   ],
   "source": [
    "balancedParens(5)"
   ]
  },
  {
   "cell_type": "code",
   "execution_count": null,
   "metadata": {},
   "outputs": [],
   "source": []
  }
 ],
 "metadata": {
  "kernelspec": {
   "display_name": "Python 3",
   "language": "python",
   "name": "python3"
  },
  "language_info": {
   "codemirror_mode": {
    "name": "ipython",
    "version": 3
   },
   "file_extension": ".py",
   "mimetype": "text/x-python",
   "name": "python",
   "nbconvert_exporter": "python",
   "pygments_lexer": "ipython3",
   "version": "3.5.2"
  },
  "widgets": {
   "state": {},
   "version": "1.1.2"
  }
 },
 "nbformat": 4,
 "nbformat_minor": 2
}
