{
 "cells": [
  {
   "cell_type": "markdown",
   "metadata": {},
   "source": [
    "### Splitting the Workload"
   ]
  },
  {
   "cell_type": "code",
   "execution_count": 28,
   "metadata": {},
   "outputs": [],
   "source": [
    "def spliterator(arr):\n",
    "    arr.sort(reverse=True)\n",
    "    part1 = []\n",
    "    part2 = []\n",
    "    sum1 = 0\n",
    "    sum2 = 0\n",
    "    size = int(len(arr) / 2)\n",
    "    print(size)\n",
    "    i = 0\n",
    "    for n in arr:\n",
    "        if sum1 < sum2:\n",
    "            sum1 += n\n",
    "            part1.append(n)\n",
    "        else:\n",
    "            sum2 += n\n",
    "            part2.append(n)\n",
    "\n",
    "    return part1,part2"
   ]
  },
  {
   "cell_type": "code",
   "execution_count": 29,
   "metadata": {},
   "outputs": [
    {
     "name": "stdout",
     "output_type": "stream",
     "text": [
      "6\n"
     ]
    },
    {
     "data": {
      "text/plain": [
       "0"
      ]
     },
     "execution_count": 29,
     "metadata": {},
     "output_type": "execute_result"
    }
   ],
   "source": [
    "p1,p2 = spliterator([4, 5, 8, 1, 3, 9, 7, 11, 100, 74, 83, 65])\n",
    "abs(sum(p1)-sum(p2))"
   ]
  },
  {
   "cell_type": "code",
   "execution_count": 30,
   "metadata": {},
   "outputs": [
    {
     "name": "stdout",
     "output_type": "stream",
     "text": [
      "3\n"
     ]
    },
    {
     "data": {
      "text/plain": [
       "2"
      ]
     },
     "execution_count": 30,
     "metadata": {},
     "output_type": "execute_result"
    }
   ],
   "source": [
    "p1,p2 = spliterator([5, 45, 37, 46, 41, 36, 36])\n",
    "abs(sum(p1)-sum(p2))"
   ]
  },
  {
   "cell_type": "code",
   "execution_count": 31,
   "metadata": {},
   "outputs": [
    {
     "name": "stdout",
     "output_type": "stream",
     "text": [
      "5\n"
     ]
    },
    {
     "data": {
      "text/plain": [
       "3"
      ]
     },
     "execution_count": 31,
     "metadata": {},
     "output_type": "execute_result"
    }
   ],
   "source": [
    "p1,p2 = spliterator([62, 6, 16, 36, 69, 71, 91, 43, 90, 97, 92]) # 1)\n",
    "abs(sum(p1)-sum(p2))"
   ]
  },
  {
   "cell_type": "code",
   "execution_count": 57,
   "metadata": {},
   "outputs": [],
   "source": [
    "import functools\n",
    "\n",
    "class Partitioner(object):\n",
    "    \n",
    "    def __init__(self, arr):\n",
    "        self.total_sum = sum(arr)\n",
    "        self.arr = arr\n",
    "        self.size = len(arr)\n",
    "        \n",
    "    def sum(self, sub_set):\n",
    "        s = functools.reduce(lambda s,i: s + self.arr[i], sub_set, 0)\n",
    "        return abs(self.total_sum - s - s)\n",
    "    \n",
    "    def find_rec(self, i, sub_set):\n",
    "        if i == self.size:\n",
    "            return sub_set\n",
    "        else:\n",
    "            res1 = self.find_rec(i+1, sub_set)\n",
    "            res2 = self.find_rec(i+1, sub_set + [i])\n",
    "            sum1 = self.sum(res1)\n",
    "            sum2 = self.sum(res2)\n",
    "            return res1 if sum1 < sum2 else res2\n",
    "        \n",
    "    def find(self):\n",
    "        res = self.find_rec(0, [])\n",
    "        s1 = []\n",
    "        s2 = []\n",
    "        j = 0\n",
    "        for i in range(0,self.size):\n",
    "            if j < len(res) and i == res[j]:\n",
    "                s1.append(self.arr[i])\n",
    "                j += 1\n",
    "            else:\n",
    "                s2.append(self.arr[i])\n",
    "        return s1,s2\n",
    "            \n",
    "    "
   ]
  },
  {
   "cell_type": "code",
   "execution_count": 58,
   "metadata": {},
   "outputs": [
    {
     "data": {
      "text/plain": [
       "1"
      ]
     },
     "execution_count": 58,
     "metadata": {},
     "output_type": "execute_result"
    }
   ],
   "source": [
    "p1,p2 = Partitioner([62, 6, 16, 36, 69, 71, 91, 43, 90, 97, 92]).find() # 1)\n",
    "abs(sum(p1)-sum(p2))"
   ]
  },
  {
   "cell_type": "code",
   "execution_count": 69,
   "metadata": {},
   "outputs": [],
   "source": [
    "class Partitioner1(object):\n",
    "    \n",
    "    def __init__(self, arr):\n",
    "        self.total_sum = sum(arr)\n",
    "        self.arr = arr\n",
    "        self.size = len(arr)\n",
    "    \n",
    "    def find_rec(self, i, sub_set, sub_sum):\n",
    "        if i == self.size:\n",
    "            return sub_set, abs(self.total_sum - sub_sum - sub_sum)\n",
    "        else:\n",
    "            res1, s1 = self.find_rec(i+1, sub_set, sub_sum)\n",
    "            res2, s2 = self.find_rec(i+1, sub_set + [self.arr[i]], sub_sum + self.arr[i])\n",
    "            if s1 < s2: return res1, s1\n",
    "            return res2,s2\n",
    "        \n",
    "    def find(self):\n",
    "        set1, sum1 = self.find_rec(0, [], 0)\n",
    "        set2 = []\n",
    "        j = 0\n",
    "        for e in self.arr:\n",
    "            if j == len(set1) or e != set1[j]:\n",
    "                set2.append(e)\n",
    "            else:\n",
    "                j += 1\n",
    "        return set1,set2"
   ]
  },
  {
   "cell_type": "code",
   "execution_count": 70,
   "metadata": {},
   "outputs": [
    {
     "data": {
      "text/plain": [
       "1"
      ]
     },
     "execution_count": 70,
     "metadata": {},
     "output_type": "execute_result"
    }
   ],
   "source": [
    "p1,p2 = Partitioner1([62, 6, 16, 36, 69, 71, 91, 43, 90, 97, 92]).find() # 1)\n",
    "abs(sum(p1)-sum(p2))"
   ]
  },
  {
   "cell_type": "code",
   "execution_count": 122,
   "metadata": {},
   "outputs": [],
   "source": [
    "\n",
    "def findDP(arr):\n",
    "    total_sum = sum(arr)\n",
    "    size = len(arr)\n",
    "    r_size = size + 1\n",
    "    c_size = total_sum + 1\n",
    "    mat = [ [False] * c_size for i in range(0,r_size) ]\n",
    "    for i in range(0,r_size): mat[i][0] = True #sum 0 is ok with any element\n",
    "\n",
    "    for i in range(1,r_size):\n",
    "        cur_element = arr[i-1]\n",
    "        for j in range(1, c_size):\n",
    "            #excluding current: can we get the sum = j without current element arr[i]\n",
    "            mat[i][j] = mat[i-1][j] \n",
    "            #including: can we get the sum = j with current element arr[i]\n",
    "            if cur_element <= j: #current element less or equal current sum j\n",
    "                mat[i][j] = mat[i][j] or mat[i-1][j - cur_element] \n",
    "                \n",
    "        \n",
    "    best_diff = abs(total_sum)\n",
    "    j = int(total_sum / 2)\n",
    "    while j >= 0 and not mat[size][j]: j -= 1\n",
    "    if  j < 0: return [], []\n",
    "    \n",
    "    set1 = []\n",
    "    set2 = []\n",
    "    i = size\n",
    "    #print(total_sum)\n",
    "    #print(j)\n",
    "    while j > 0:\n",
    "        cur_element = arr[i-1]\n",
    "        #print(set1)\n",
    "        #print(set2)\n",
    "        #print(f\" {cur_element}: cur={mat[i][j]}  prev = {mat[i-1][j]}\")\n",
    "        #print(\"----\")\n",
    "        #can we make the sum with current element\n",
    "        if j >= cur_element and mat[i][j] and mat[i-1][j - cur_element]:\n",
    "            set1.append(cur_element)\n",
    "            j = j - cur_element\n",
    "        else:\n",
    "            set2.append(cur_element)\n",
    "        i = i - 1\n",
    "    while i > 0:\n",
    "        set2.append(arr[i-1])\n",
    "        i = i - 1\n",
    "    print(set1)\n",
    "    print(set2)\n",
    "    return set1,set2\n",
    "        "
   ]
  },
  {
   "cell_type": "code",
   "execution_count": 123,
   "metadata": {},
   "outputs": [
    {
     "name": "stdout",
     "output_type": "stream",
     "text": [
      "[92, 97, 43, 36, 6, 62]\n",
      "[90, 91, 71, 69, 16]\n"
     ]
    },
    {
     "data": {
      "text/plain": [
       "1"
      ]
     },
     "execution_count": 123,
     "metadata": {},
     "output_type": "execute_result"
    }
   ],
   "source": [
    "p1,p2 = findDP([62, 6, 16, 36, 69, 71, 91, 43, 90, 97, 92])\n",
    "abs(sum(p1)-sum(p2))"
   ]
  },
  {
   "cell_type": "code",
   "execution_count": 124,
   "metadata": {},
   "outputs": [
    {
     "name": "stdout",
     "output_type": "stream",
     "text": [
      "[71]\n",
      "[55, 59]\n"
     ]
    },
    {
     "data": {
      "text/plain": [
       "43"
      ]
     },
     "execution_count": 124,
     "metadata": {},
     "output_type": "execute_result"
    }
   ],
   "source": [
    "p1,p2 = findDP([59, 55, 71]) # 43)\n",
    "abs(sum(p1)-sum(p2))"
   ]
  },
  {
   "cell_type": "code",
   "execution_count": null,
   "metadata": {},
   "outputs": [],
   "source": []
  }
 ],
 "metadata": {
  "kernelspec": {
   "display_name": "Python 3",
   "language": "python",
   "name": "python3"
  },
  "language_info": {
   "codemirror_mode": {
    "name": "ipython",
    "version": 3
   },
   "file_extension": ".py",
   "mimetype": "text/x-python",
   "name": "python",
   "nbconvert_exporter": "python",
   "pygments_lexer": "ipython3",
   "version": "3.7.2"
  },
  "toc": {
   "base_numbering": 1,
   "nav_menu": {},
   "number_sections": false,
   "sideBar": false,
   "skip_h1_title": false,
   "title_cell": "Table of Contents",
   "title_sidebar": "Contents",
   "toc_cell": false,
   "toc_position": {},
   "toc_section_display": false,
   "toc_window_display": false
  }
 },
 "nbformat": 4,
 "nbformat_minor": 2
}
