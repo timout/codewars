{
 "cells": [
  {
   "cell_type": "markdown",
   "metadata": {},
   "source": [
    "Imagine that you have a plane pyramid built of numbers, like this one here:  \n",
    "<pre>\n",
    "   /3/\n",
    "  \\7\\ 4 \n",
    " 2 \\4\\ 6 \n",
    "8 5 \\9\\ 3\n",
    "</pre>\n",
    "Here comes the task...\n",
    "Let's say that the 'slide down' is a sum of consecutive numbers from the top to the bottom of the pyramid.  \n",
    "As you can see, the longest 'slide down' is 3 + 7 + 4 + 9 = 23  \n",
    "\n",
    "Your task is to write a function longestSlideDown that takes a pyramid representation as argument and returns its' longest 'slide down'."
   ]
  },
  {
   "cell_type": "markdown",
   "metadata": {},
   "source": [
    "### Solution\n",
    "From down to top:   \n",
    "i in [len(pyramid): 1 ]  \n",
    "Find max path for every i-1 line to i line.\n",
    "Example:  \n",
    "<pre>\n",
    "3\n",
    "7 4\n",
    "2 4 6\n",
    "8 5 9 3\n",
    "\n",
    "1)\n",
    "3\n",
    "7 4 \n",
    "10(max: 2+8, 2+5) 13(max: 4+5, 4+9) 15(max: 6+9, 6+3)\n",
    "\n",
    "2)\n",
    "3\n",
    "20(max: 7+10, 7+13) 19(max: 4+13, 4+15)\n",
    "\n",
    "3)\n",
    "23 (max: 3+20, 3+19)\n",
    "</pre>"
   ]
  },
  {
   "cell_type": "code",
   "execution_count": 1,
   "metadata": {},
   "outputs": [],
   "source": [
    "from functools import reduce\n",
    "\n",
    "def longest_slide_down(arr):\n",
    "    if not arr: return 0\n",
    "    size = len(arr)\n",
    "    fn = lambda last, i: [ max(arr[i][j] + last[j], arr[i][j] + last[j+1]) for j in range(0, len(arr[i])) ]\n",
    "    last = reduce(fn , range(size-2, -1, -1), arr[size-1])\n",
    "    return last[0]"
   ]
  },
  {
   "cell_type": "code",
   "execution_count": 2,
   "metadata": {},
   "outputs": [
    {
     "data": {
      "text/plain": [
       "23"
      ]
     },
     "execution_count": 2,
     "metadata": {},
     "output_type": "execute_result"
    }
   ],
   "source": [
    "longest_slide_down([[3], [7, 4], [2, 4, 6], [8, 5, 9, 3]]) # 23"
   ]
  },
  {
   "cell_type": "code",
   "execution_count": 3,
   "metadata": {},
   "outputs": [
    {
     "data": {
      "text/plain": [
       "10"
      ]
     },
     "execution_count": 3,
     "metadata": {},
     "output_type": "execute_result"
    }
   ],
   "source": [
    "longest_slide_down([[3], [7, 4]]) #10"
   ]
  },
  {
   "cell_type": "code",
   "execution_count": 4,
   "metadata": {},
   "outputs": [
    {
     "data": {
      "text/plain": [
       "3"
      ]
     },
     "execution_count": 4,
     "metadata": {},
     "output_type": "execute_result"
    }
   ],
   "source": [
    "longest_slide_down([[3]])"
   ]
  },
  {
   "cell_type": "code",
   "execution_count": null,
   "metadata": {},
   "outputs": [],
   "source": []
  }
 ],
 "metadata": {
  "kernelspec": {
   "display_name": "Python 3",
   "language": "python",
   "name": "python3"
  },
  "language_info": {
   "codemirror_mode": {
    "name": "ipython",
    "version": 3
   },
   "file_extension": ".py",
   "mimetype": "text/x-python",
   "name": "python",
   "nbconvert_exporter": "python",
   "pygments_lexer": "ipython3",
   "version": "3.5.2"
  },
  "widgets": {
   "state": {},
   "version": "1.1.2"
  }
 },
 "nbformat": 4,
 "nbformat_minor": 2
}
