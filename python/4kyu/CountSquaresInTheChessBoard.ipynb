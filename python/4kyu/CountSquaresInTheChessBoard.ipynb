{
 "cells": [
  {
   "cell_type": "markdown",
   "metadata": {},
   "source": [
    "### Count Squares In the Chess Board\n"
   ]
  },
  {
   "cell_type": "code",
   "execution_count": 37,
   "metadata": {},
   "outputs": [],
   "source": [
    "def count_non_opt(mat):\n",
    "    if not mat or len(mat) < 2: return {}\n",
    "    size = len(mat)\n",
    "    figures = [ [r,c]  for r in range(0, size) for c in range(0, size) if mat[r][c] == 0 ]\n",
    "    res = {}\n",
    "    min_size = 2\n",
    "    max_size = size - 1 if len(figures) > 0 else size\n",
    "    for i in range(min_size, max_size+1):\n",
    "        tot = (size - i + 1) * (size - i + 1)\n",
    "        f_set = set()\n",
    "        for figure in figures:\n",
    "            start_c = figure[1] - i + 1\n",
    "            if start_c < 0: start_c = 0\n",
    "            end_c = figure[1] + i - 1\n",
    "            if end_c >= size: end_c = size - 1\n",
    "            start_r = figure[0] - i + 1\n",
    "            if start_r < 0: start_r = 0\n",
    "            end_r = figure[0] + i - 1\n",
    "            if end_r >= size: end_r = size - 1\n",
    "            while start_c <= end_c - i + 1:\n",
    "                for f_r in range(start_r, end_r - i + 2):  #end_r - i + 1\n",
    "                    f_set.add((f_r, start_c))\n",
    "                start_c += 1\n",
    "        print(f_set)\n",
    "        tot = tot - len(f_set)\n",
    "        if tot > 0: res[i] = tot\n",
    "    return res\n",
    "    "
   ]
  },
  {
   "cell_type": "code",
   "execution_count": 64,
   "metadata": {},
   "outputs": [],
   "source": [
    "def count(mat):\n",
    "    if not mat or len(mat) < 2: return {}\n",
    "    size = len(mat)\n",
    "    min_size = 2\n",
    "    max_size = size\n",
    "    figures = []\n",
    "    for r in range(0, size):\n",
    "        for c in range(0, size):\n",
    "            if mat[r][c] == 0:\n",
    "                figures.append((r,c))\n",
    "                local_max = max(r, size-r-1, c, size-c-1)\n",
    "                max_size = min(max_size, local_max)\n",
    "\n",
    "    print(f\"max_size = {max_size}\")\n",
    "    res = {}\n",
    "    for i in range(min_size, max_size+1):\n",
    "        tot = (size - i + 1) * (size - i + 1)\n",
    "        f_set = set()\n",
    "        for figure in figures:\n",
    "            start_c = figure[1] - i + 1\n",
    "            if start_c < 0: start_c = 0\n",
    "            end_c = figure[1] + i - 1\n",
    "            if end_c >= size: end_c = size - 1\n",
    "            start_r = figure[0] - i + 1\n",
    "            if start_r < 0: start_r = 0\n",
    "            end_r = figure[0] + i - 1\n",
    "            if end_r >= size: end_r = size - 1\n",
    "            while start_c <= end_c - i + 1:\n",
    "                for f_r in range(start_r, end_r - i + 2):  #end_r - i + 1\n",
    "                    f_set.add((f_r, start_c))\n",
    "                start_c += 1\n",
    "        #print(f_set)\n",
    "        tot = tot - len(f_set)\n",
    "        if tot > 0: res[i] = tot\n",
    "    return res\n",
    "    "
   ]
  },
  {
   "cell_type": "markdown",
   "metadata": {},
   "source": [
    "### DP aproach\n",
    "Uses largest square sub-matrix of 1’s kind of problem"
   ]
  },
  {
   "cell_type": "code",
   "execution_count": 26,
   "metadata": {},
   "outputs": [],
   "source": [
    "def count(in_mat):\n",
    "    if not in_mat or len(in_mat) < 2: return {}\n",
    "    size = len(in_mat)\n",
    "    msize = size + 1\n",
    "    mat = [ [0] * msize for i in range(0, msize) ]\n",
    "    score_map = {}\n",
    "    max_size = 1\n",
    "    for i in range(1, msize):\n",
    "        for j in range(1, msize):\n",
    "            if in_mat[i-1][j-1] > 0:\n",
    "                score = min(mat[i-1][j-1], mat[i-1][j], mat[i][j-1]) + 1\n",
    "                mat[i][j] = score\n",
    "                score_map[score] = score_map.get(score, 0) + 1\n",
    "                if score > max_size: max_size = score\n",
    "    \n",
    "    if max_size < 2: return {}\n",
    "    res = {}\n",
    "    res[max_size] = score_map[max_size]\n",
    "    for i in reversed(range(2, max_size)):\n",
    "        print(i)\n",
    "        res[i] = score_map[i] + res[i+1]\n",
    "    \n",
    "    return res\n",
    "    "
   ]
  },
  {
   "cell_type": "code",
   "execution_count": 27,
   "metadata": {},
   "outputs": [
    {
     "data": {
      "text/plain": [
       "{}"
      ]
     },
     "execution_count": 27,
     "metadata": {},
     "output_type": "execute_result"
    }
   ],
   "source": [
    "chessBoard = [\n",
    "    [1,1,1],\n",
    "    [1,0,1],\n",
    "    [1,1,1]\n",
    "]\n",
    "count(chessBoard)"
   ]
  },
  {
   "cell_type": "code",
   "execution_count": 28,
   "metadata": {},
   "outputs": [
    {
     "data": {
      "text/plain": [
       "{2: 1}"
      ]
     },
     "execution_count": 28,
     "metadata": {},
     "output_type": "execute_result"
    }
   ],
   "source": [
    "chessBoard = [\n",
    "  [1,1],\n",
    "  [1,1]\n",
    "]\n",
    "count(chessBoard)"
   ]
  },
  {
   "cell_type": "code",
   "execution_count": 29,
   "metadata": {},
   "outputs": [
    {
     "name": "stdout",
     "output_type": "stream",
     "text": [
      "2\n"
     ]
    },
    {
     "data": {
      "text/plain": [
       "{3: 1, 2: 4}"
      ]
     },
     "execution_count": 29,
     "metadata": {},
     "output_type": "execute_result"
    }
   ],
   "source": [
    "chessBoard = [\n",
    "  [1,1,1],\n",
    "  [1,1,1],\n",
    "  [1,1,1]\n",
    "]\n",
    "count(chessBoard)"
   ]
  },
  {
   "cell_type": "code",
   "execution_count": 15,
   "metadata": {},
   "outputs": [
    {
     "data": {
      "text/plain": [
       "{4: 1, 3: 4, 2: 9}"
      ]
     },
     "execution_count": 15,
     "metadata": {},
     "output_type": "execute_result"
    }
   ],
   "source": [
    "chessBoard = [\n",
    "  [1,1,1,1],\n",
    "  [1,1,1,1],\n",
    "  [1,1,1,1],\n",
    "  [1,1,1,1]\n",
    "]\n",
    "count(chessBoard)"
   ]
  },
  {
   "cell_type": "code",
   "execution_count": 16,
   "metadata": {},
   "outputs": [
    {
     "data": {
      "text/plain": [
       "{2: 3}"
      ]
     },
     "execution_count": 16,
     "metadata": {},
     "output_type": "execute_result"
    }
   ],
   "source": [
    "chessBoard = [\n",
    "  [1,1,1],\n",
    "  [1,1,1],\n",
    "  [1,1,0]\n",
    "]\n",
    "count(chessBoard)"
   ]
  },
  {
   "cell_type": "code",
   "execution_count": 17,
   "metadata": {},
   "outputs": [
    {
     "data": {
      "text/plain": [
       "{3: 5, 2: 12}"
      ]
     },
     "execution_count": 17,
     "metadata": {},
     "output_type": "execute_result"
    }
   ],
   "source": [
    "chessBoard = [\n",
    "  [1,1,1,1,1],\n",
    "  [1,1,1,1,1],\n",
    "  [1,1,1,1,1],\n",
    "  [1,1,1,0,1],\n",
    "  [1,1,1,1,1]\n",
    "]\n",
    "count(chessBoard)"
   ]
  },
  {
   "cell_type": "code",
   "execution_count": null,
   "metadata": {},
   "outputs": [],
   "source": []
  }
 ],
 "metadata": {
  "kernelspec": {
   "display_name": "Python 3",
   "language": "python",
   "name": "python3"
  },
  "language_info": {
   "codemirror_mode": {
    "name": "ipython",
    "version": 3
   },
   "file_extension": ".py",
   "mimetype": "text/x-python",
   "name": "python",
   "nbconvert_exporter": "python",
   "pygments_lexer": "ipython3",
   "version": "3.7.2"
  },
  "toc": {
   "base_numbering": 1,
   "nav_menu": {},
   "number_sections": false,
   "sideBar": false,
   "skip_h1_title": false,
   "title_cell": "Table of Contents",
   "title_sidebar": "Contents",
   "toc_cell": false,
   "toc_position": {},
   "toc_section_display": false,
   "toc_window_display": false
  }
 },
 "nbformat": 4,
 "nbformat_minor": 2
}
