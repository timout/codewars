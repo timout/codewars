{
 "cells": [
  {
   "cell_type": "markdown",
   "metadata": {},
   "source": [
    "The logging company makes its money by optimizing the price-to-length of each log they cut before selling them.  \n",
    "An example of one of their price tables is included:  \n",
    "So a price table p = [0, 1, 5, 8, 9,10]  \n",
    "Can be imagined as:  \n",
    "\n",
    "| Length (in feet) | Price (in money) |\n",
    "| :--- | :---: | \n",
    "| 0  | 0  |\n",
    "| 1  | 1  | \n",
    "| 2  | 5  | \n",
    "| 3  | 8  | \n",
    "| 4  | 9  | \n",
    "| 5  | 10 | \n"
   ]
  },
  {
   "cell_type": "code",
   "execution_count": 7,
   "metadata": {},
   "outputs": [],
   "source": [
    "p = [  0,   1,   5,   8,   9,  10,  17,  17,  20,  24, # 0X's\n",
    "      30,  32,  35,  39,  43,  43,  45,  49,  50,  54, # 1X's\n",
    "      57,  60,  65,  68,  70,  74,  80,  81,  84,  85, # 2X's\n",
    "      87,  91,  95,  99, 101, 104, 107, 112, 115, 116, # 3X's\n",
    "     119]"
   ]
  },
  {
   "cell_type": "code",
   "execution_count": 8,
   "metadata": {},
   "outputs": [],
   "source": [
    "def cut_log(p, n):\n",
    "    if not n: return 0\n",
    "    if not p: return 0\n",
    "    res = [0]*(n+1)\n",
    "    for s in range(1, n+1):\n",
    "        j = 0\n",
    "        m = 0\n",
    "        while j < len(p) and s-j >= 0:\n",
    "            pr = p[j] + res[s-j]\n",
    "            if pr > m: m = pr\n",
    "            j += 1\n",
    "        res[s] = m\n",
    "    return res[n]  "
   ]
  },
  {
   "cell_type": "code",
   "execution_count": 9,
   "metadata": {},
   "outputs": [
    {
     "data": {
      "text/plain": [
       "1"
      ]
     },
     "execution_count": 9,
     "metadata": {},
     "output_type": "execute_result"
    }
   ],
   "source": [
    "cut_log(p, 1)# 1"
   ]
  },
  {
   "cell_type": "code",
   "execution_count": 10,
   "metadata": {},
   "outputs": [
    {
     "data": {
      "text/plain": [
       "13"
      ]
     },
     "execution_count": 10,
     "metadata": {},
     "output_type": "execute_result"
    }
   ],
   "source": [
    "cut_log(p, 5) # 13"
   ]
  },
  {
   "cell_type": "code",
   "execution_count": 11,
   "metadata": {},
   "outputs": [
    {
     "data": {
      "text/plain": [
       "22"
      ]
     },
     "execution_count": 11,
     "metadata": {},
     "output_type": "execute_result"
    }
   ],
   "source": [
    "cut_log(p, 8) #22"
   ]
  },
  {
   "cell_type": "code",
   "execution_count": 12,
   "metadata": {},
   "outputs": [
    {
     "data": {
      "text/plain": [
       "30"
      ]
     },
     "execution_count": 12,
     "metadata": {},
     "output_type": "execute_result"
    }
   ],
   "source": [
    "cut_log(p, 10) #30"
   ]
  },
  {
   "cell_type": "code",
   "execution_count": 13,
   "metadata": {},
   "outputs": [
    {
     "data": {
      "text/plain": [
       "65"
      ]
     },
     "execution_count": 13,
     "metadata": {},
     "output_type": "execute_result"
    }
   ],
   "source": [
    "cut_log(p, 22) #65"
   ]
  },
  {
   "cell_type": "code",
   "execution_count": 14,
   "metadata": {},
   "outputs": [
    {
     "data": {
      "text/plain": [
       "105"
      ]
     },
     "execution_count": 14,
     "metadata": {},
     "output_type": "execute_result"
    }
   ],
   "source": [
    "cut_log(p, 35) #105"
   ]
  },
  {
   "cell_type": "code",
   "execution_count": null,
   "metadata": {},
   "outputs": [],
   "source": []
  }
 ],
 "metadata": {
  "kernelspec": {
   "display_name": "Python 3",
   "language": "python",
   "name": "python3"
  },
  "language_info": {
   "codemirror_mode": {
    "name": "ipython",
    "version": 3
   },
   "file_extension": ".py",
   "mimetype": "text/x-python",
   "name": "python",
   "nbconvert_exporter": "python",
   "pygments_lexer": "ipython3",
   "version": "3.5.2"
  },
  "widgets": {
   "state": {},
   "version": "1.1.2"
  }
 },
 "nbformat": 4,
 "nbformat_minor": 2
}
