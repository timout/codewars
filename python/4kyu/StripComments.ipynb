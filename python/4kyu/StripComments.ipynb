{
 "cells": [
  {
   "cell_type": "markdown",
   "metadata": {},
   "source": [
    "## Strip comments\n",
    "\n",
    "Complete the solution so that it strips all text that follows any of a set of comment markers passed in. Any whitespace at the end of the line should also be stripped out.\n",
    "\n",
    "Example:  \n",
    "var result = solution(\"apples, pears # and bananas\\ngrapes\\nbananas !apples\", [\"#\", \"!\"])  \n",
    "result should == \"apples, pears\\ngrapes\\nbananas\""
   ]
  },
  {
   "cell_type": "code",
   "execution_count": 18,
   "metadata": {},
   "outputs": [],
   "source": [
    "def solution(text, comment):\n",
    "    if not text or len(text) == 0: return \"\"\n",
    "    if not comment or len(comment) == 0: text\n",
    "    res = []\n",
    "    ci = False\n",
    "    sp = -1\n",
    "    for c in text:\n",
    "        if c == '\\n':\n",
    "            res.append(c)\n",
    "            ci = False\n",
    "            sp = -1\n",
    "        elif c in comment:\n",
    "            ci = True\n",
    "            if sp >= 0:\n",
    "                res = res[:sp]\n",
    "                sp = -1\n",
    "        elif c == ' ':\n",
    "            if not ci: \n",
    "                if sp == -1: sp = len(res)\n",
    "                res.append(c)\n",
    "        elif not ci:\n",
    "            res.append(c)\n",
    "            sp = -1\n",
    "    return ''.join(res)\n",
    "    "
   ]
  },
  {
   "cell_type": "code",
   "execution_count": 20,
   "metadata": {},
   "outputs": [
    {
     "data": {
      "text/plain": [
       "'apples, pears\\ngrapes \\nbananas'"
      ]
     },
     "execution_count": 20,
     "metadata": {},
     "output_type": "execute_result"
    }
   ],
   "source": [
    "solution(\"apples, pears # and bananas \\ngrapes \\nbananas !apples\", [\"#\", \"!\"])"
   ]
  },
  {
   "cell_type": "code",
   "execution_count": null,
   "metadata": {},
   "outputs": [],
   "source": []
  }
 ],
 "metadata": {
  "kernelspec": {
   "display_name": "Python 3",
   "language": "python",
   "name": "python3"
  },
  "language_info": {
   "codemirror_mode": {
    "name": "ipython",
    "version": 3
   },
   "file_extension": ".py",
   "mimetype": "text/x-python",
   "name": "python",
   "nbconvert_exporter": "python",
   "pygments_lexer": "ipython3",
   "version": "3.5.2"
  },
  "widgets": {
   "state": {},
   "version": "1.1.2"
  }
 },
 "nbformat": 4,
 "nbformat_minor": 2
}
