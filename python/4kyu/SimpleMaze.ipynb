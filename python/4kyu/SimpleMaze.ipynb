{
 "cells": [
  {
   "cell_type": "markdown",
   "metadata": {},
   "source": [
    "Kate constantly finds herself in some kind of a maze. Help her to find a way out!.  \n",
    "For a given maze and Kate's position find if there is a way out.  \n",
    "Your function should return True or False.  \n",
    "Each maze is defined as a list of strings, where each char stays for a single maze \"cell\".  \n",
    "' ' (space) can be stepped on, '#' means wall and 'k' stays for Kate's starting position.  \n",
    "Kate can move left, up, right or down only.  \n",
    "There should be only one Kate in a maze. In any other case you have to raise an exception."
   ]
  },
  {
   "cell_type": "code",
   "execution_count": 80,
   "metadata": {},
   "outputs": [],
   "source": [
    "from collections import namedtuple, deque\n",
    "\n",
    "Pos = namedtuple('Pos', ['x', 'y'])\n",
    "\n",
    "def create_line(string_line, size):\n",
    "    # if some of the lines less than size - add spaces to make rectengle\n",
    "    if len(string_line) < size: string_line = string_line.ljust(size, ' ')\n",
    "    return [c for c in string_line ]\n",
    "\n",
    "def create_maze(maze):\n",
    "    m = max([ len(l) for l in maze])\n",
    "    return [ create_line(l, m) for l in maze ]\n",
    "\n",
    "def find_start(arr):\n",
    "    start_pos = None\n",
    "    for y in range(0, len(arr)):\n",
    "        for x in range(0, len(arr[y])):\n",
    "            if arr[y][x] == 'k':\n",
    "                if start_pos: raise ValueError(\"There should no be multiple Kates\")\n",
    "                start_pos = Pos(x,y)\n",
    "                   \n",
    "    if not start_pos: raise ValueError(\"Missing start point\")\n",
    "    return start_pos\n",
    "\n",
    "def is_exit(p, arr):\n",
    "    return p.y == 0 or p.y == len(arr)-1 or p.x == 0 or p.x == len(arr[p.y])-1\n",
    "\n",
    "def is_valid(p, arr):\n",
    "    return ( \n",
    "            p.y >= 0 and p.y < len(arr) and \n",
    "            p.x >= 0 and p.x < len(arr[p.y]) and \n",
    "            arr[p.y][p.x] == ' '\n",
    "           )\n",
    "\n",
    "def make_steps(p):\n",
    "    return [ Pos(p.x-1, p.y), Pos(p.x+1, p.y), Pos(p.x, p.y-1), Pos(p.x, p.y+1) ]\n",
    "\n",
    "def is_way_out(maze):\n",
    "    if  not maze: return False\n",
    "    arr = create_maze(maze)\n",
    "    start_pos = find_start(arr)\n",
    "    q = deque()\n",
    "    q.append(start_pos)\n",
    "    while len(q) > 0:\n",
    "        p = q.popleft()\n",
    "        if is_exit(p, arr): return True\n",
    "        steps = filter(lambda np: is_valid(np, arr), make_steps(p))\n",
    "        for np in steps:\n",
    "            arr[np.y][np.x] = '1'\n",
    "            q.append(np)\n",
    "    return False\n",
    "        "
   ]
  },
  {
   "cell_type": "code",
   "execution_count": 81,
   "metadata": {},
   "outputs": [
    {
     "data": {
      "text/plain": [
       "True"
      ]
     },
     "execution_count": 81,
     "metadata": {},
     "output_type": "execute_result"
    }
   ],
   "source": [
    "is_way_out([\"k\"])\n"
   ]
  },
  {
   "cell_type": "code",
   "execution_count": 82,
   "metadata": {},
   "outputs": [
    {
     "data": {
      "text/plain": [
       "False"
      ]
     },
     "execution_count": 82,
     "metadata": {},
     "output_type": "execute_result"
    }
   ],
   "source": [
    "is_way_out([\"###\", \"#k#\", \"###\"]) #False, \"no exit case\")"
   ]
  },
  {
   "cell_type": "code",
   "execution_count": 83,
   "metadata": {},
   "outputs": [
    {
     "data": {
      "text/plain": [
       "True"
      ]
     },
     "execution_count": 83,
     "metadata": {},
     "output_type": "execute_result"
    }
   ],
   "source": [
    "is_way_out([\"###\",\n",
    "        \"#k \",\n",
    "        \"###\"]) #True, \"single exit case\")"
   ]
  },
  {
   "cell_type": "code",
   "execution_count": 84,
   "metadata": {},
   "outputs": [
    {
     "data": {
      "text/plain": [
       "True"
      ]
     },
     "execution_count": 84,
     "metadata": {},
     "output_type": "execute_result"
    }
   ],
   "source": [
    "is_way_out(\n",
    "       [\"########\",\n",
    "        \"# # ####\",\n",
    "        \"# #k#   \",\n",
    "        \"# # # ##\",\n",
    "        \"# # # ##\",\n",
    "        \"#      #\",\n",
    "        \"########\"]) #True, \"single exit big maze\")"
   ]
  },
  {
   "cell_type": "code",
   "execution_count": 85,
   "metadata": {},
   "outputs": [
    {
     "data": {
      "text/plain": [
       "False"
      ]
     },
     "execution_count": 85,
     "metadata": {},
     "output_type": "execute_result"
    }
   ],
   "source": [
    "is_way_out(\n",
    "       [\"########\",\n",
    "        \"# # ## #\",\n",
    "        \"# #k#  #\",\n",
    "        \"# # # ##\",\n",
    "        \"# # #  #\",\n",
    "        \"#     ##\",\n",
    "        \"########\"]) #False, \"no exit big maze\")"
   ]
  },
  {
   "cell_type": "code",
   "execution_count": 86,
   "metadata": {},
   "outputs": [
    {
     "data": {
      "text/plain": [
       "True"
      ]
     },
     "execution_count": 86,
     "metadata": {},
     "output_type": "execute_result"
    }
   ],
   "source": [
    "is_way_out(\n",
    "[\"#########\",\n",
    " \"#k        #\",\n",
    " \"###########\"])"
   ]
  },
  {
   "cell_type": "code",
   "execution_count": null,
   "metadata": {},
   "outputs": [],
   "source": []
  }
 ],
 "metadata": {
  "kernelspec": {
   "display_name": "Python 3",
   "language": "python",
   "name": "python3"
  },
  "language_info": {
   "codemirror_mode": {
    "name": "ipython",
    "version": 3
   },
   "file_extension": ".py",
   "mimetype": "text/x-python",
   "name": "python",
   "nbconvert_exporter": "python",
   "pygments_lexer": "ipython3",
   "version": "3.5.2"
  },
  "widgets": {
   "state": {},
   "version": "1.1.2"
  }
 },
 "nbformat": 4,
 "nbformat_minor": 2
}
