{
 "cells": [
  {
   "cell_type": "markdown",
   "metadata": {},
   "source": [
    "### Exchange Sort\n",
    "Given a sequence (length ≤ 1000) of 3 different key values (7, 8, 9), your task is to find the minimum number of exchange operations necessary to make the sequence sorted.  \n",
    "One operation is the switching of 2 key values in the sequence.\n",
    "#### Example\n",
    "- For sequence = [7, 7, 8, 8, 9, 9], the result should be 0.\n",
    "- For sequence = [9, 7, 8, 8, 9, 7], the result should be 1.\n",
    "- For sequence = [8, 8, 7, 9, 9, 9, 8, 9, 7], the result should be 4."
   ]
  },
  {
   "cell_type": "code",
   "execution_count": 1,
   "metadata": {},
   "outputs": [],
   "source": [
    "from functools import reduce\n",
    "\n",
    "def solution(seq):\n",
    "    if not seq or len(seq) < 2: 0\n",
    "    def add_cnt(c, i):\n",
    "        c[i-7] += 1\n",
    "        return c\n",
    "    counts = reduce(add_cnt, seq, [0,0,0])\n",
    "    i = 0\n",
    "    c = 0\n",
    "    s = [0,0]\n",
    "    e = [0,0]\n",
    "    n = [0,0]\n",
    "    while i < counts[0]:\n",
    "        if seq[i] == 8: s[0] += 1\n",
    "        if seq[i] == 9: s[1] += 1 \n",
    "        i += 1\n",
    "    while i < counts[0] + counts[1]:\n",
    "        if seq[i] == 7: e[0] += 1\n",
    "        if seq[i] == 9: e[1] += 1 \n",
    "        i += 1\n",
    "    while i < len(seq):\n",
    "        if seq[i] == 7: n[0] += 1\n",
    "        if seq[i] == 8: n[1] += 1 \n",
    "        i += 1\n",
    "    se = min(s[0], e[0])\n",
    "    c += se\n",
    "    s[0] -= se\n",
    "    e[0] -= se\n",
    "    \n",
    "    sn = min(s[1], n[0])\n",
    "    c += sn\n",
    "    s[1] -= sn\n",
    "    e[0] -= sn\n",
    "    \n",
    "    en = min(e[1], n[1])\n",
    "    c += en\n",
    "    e[1] -= en\n",
    "    n[1] -= en\n",
    "    \n",
    "    c += (s[1]*2)\n",
    "    c += (s[0]*2)\n",
    "    \n",
    "    return c\n",
    "        \n",
    "    "
   ]
  },
  {
   "cell_type": "code",
   "execution_count": 2,
   "metadata": {},
   "outputs": [
    {
     "data": {
      "text/plain": [
       "4"
      ]
     },
     "execution_count": 2,
     "metadata": {},
     "output_type": "execute_result"
    }
   ],
   "source": [
    "solution( [8, 8, 7, 9, 9, 9, 8, 9, 7] )"
   ]
  },
  {
   "cell_type": "code",
   "execution_count": 3,
   "metadata": {},
   "outputs": [
    {
     "data": {
      "text/plain": [
       "0"
      ]
     },
     "execution_count": 3,
     "metadata": {},
     "output_type": "execute_result"
    }
   ],
   "source": [
    "solution([7, 7, 8, 8, 9, 9])"
   ]
  },
  {
   "cell_type": "code",
   "execution_count": 4,
   "metadata": {},
   "outputs": [
    {
     "data": {
      "text/plain": [
       "1"
      ]
     },
     "execution_count": 4,
     "metadata": {},
     "output_type": "execute_result"
    }
   ],
   "source": [
    "solution([9, 7, 8, 8, 9, 7])"
   ]
  },
  {
   "cell_type": "code",
   "execution_count": null,
   "metadata": {},
   "outputs": [],
   "source": []
  }
 ],
 "metadata": {
  "kernelspec": {
   "display_name": "Python 3",
   "language": "python",
   "name": "python3"
  },
  "language_info": {
   "codemirror_mode": {
    "name": "ipython",
    "version": 3
   },
   "file_extension": ".py",
   "mimetype": "text/x-python",
   "name": "python",
   "nbconvert_exporter": "python",
   "pygments_lexer": "ipython3",
   "version": "3.5.2"
  },
  "widgets": {
   "state": {},
   "version": "1.1.2"
  }
 },
 "nbformat": 4,
 "nbformat_minor": 2
}
