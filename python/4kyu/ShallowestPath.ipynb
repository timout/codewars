{
 "cells": [
  {
   "cell_type": "markdown",
   "metadata": {},
   "source": [
    "### Shallowest path across the river\n",
    "\n",
    "Your job is to write a function shallowest_path(river) that takes a list of lists of positive ints (or array of arrays, depending on language) showing the depths of the river as shown in the example above and returns a shallowest path (i.e., the maximum depth is minimal) as a list of coordinate pairs (represented as tuples, Pairs, or arrays, depending on language) as described above. If there are several paths that are equally shallow, the function shall return a shortest such path. All depths are given as positive integers."
   ]
  },
  {
   "cell_type": "code",
   "execution_count": 70,
   "metadata": {},
   "outputs": [],
   "source": [
    "import heapq\n",
    "import math\n",
    "from collections import namedtuple\n",
    "\n",
    "STEPS = [ [0,1], [1,0], [1,1], [-1,1], [1,-1], [0,-1], [-1,0], [-1,-1] ]\n",
    "\n",
    "Point = namedtuple('Point', ['id', 'y', 'x', 'depth', 'steps'])\n",
    "\n",
    "class PathQueue(object):\n",
    "    def __init__(self):\n",
    "        self._points = []\n",
    "\n",
    "    def push(self, point):\n",
    "        heapq.heappush(self._points, (point.depth, point.steps, point.id, point))\n",
    "\n",
    "    def pop(self):\n",
    "        return heapq.heappop(self._points)[-1]\n",
    "    \n",
    "    def is_not_empty(self):\n",
    "        return len(self._points) > 0;\n",
    "    \n",
    "class PathFinder(object):\n",
    "    \n",
    "    def __init__(self, river):\n",
    "        self.river = river\n",
    "        self.y_size = len(river)\n",
    "        self.x_size = len(river[0])\n",
    "        self.maze = [  [ self.create_init_point(y, x) for x in range(0, self.x_size) ] for y in range(0,self.y_size) ]\n",
    "        for y in range(0,self.y_size):\n",
    "            self.maze[y][0] = Point(y, y, 0, self.river[y][0], 1)\n",
    "        #print(self.maze)\n",
    "    \n",
    "    def create_init_point(self, y, x):\n",
    "        return Point(-1, y, x, self.river[y][x], math.inf)\n",
    "    \n",
    "    def is_end_point(self, p):\n",
    "        return p.x == self.x_size - 1\n",
    "    \n",
    "    def get_best_point(self, p1, p2):\n",
    "        if not p2: return p1\n",
    "        return p1 if ( p1.depth < p2.depth ) or ( p1.depth == p2.depth and p1.steps < p2.steps ) else p2\n",
    "    \n",
    "    def is_valid_point(self, p, step):\n",
    "        y = p.y + step[0]\n",
    "        x = p.x + step[1]\n",
    "        return ( y >= 0 and y < self.y_size and x > 0 and x < self.x_size ) \n",
    "\n",
    "    def next_step(self, p, step): \n",
    "        y = p.y + step[0]\n",
    "        x = p.x + step[1]\n",
    "        d = p.depth if p.depth > self.maze[y][x].depth else self.maze[y][x].depth\n",
    "        return Point(p.id, y, x, d, p.steps + 1) \n",
    "        \n",
    "    def find_next_points(self, p):\n",
    "        valid_pts = ( self.next_step(p, s) for s in STEPS if self.is_valid_point(p, s) )\n",
    "        return filter(lambda np: np.steps < self.maze[np.y][np.x].steps, valid_pts)\n",
    "\n",
    "    def find_prev_point(self, p):\n",
    "        prev = None\n",
    "        for step in STEPS:\n",
    "            y = p.y + step[0]\n",
    "            x = p.x + step[1]\n",
    "            if y >= 0 and y < self.y_size and x >= 0 and x < self.x_size:\n",
    "                pp = self.maze[y][x]\n",
    "                if pp.depth <= p.depth and pp.steps < p.steps:\n",
    "                    if not prev or pp.steps < prev.steps: prev = pp\n",
    "        if not prev: \n",
    "            raise ValueError(\"Incorrect point\")\n",
    "        return prev\n",
    "    \n",
    "    def build_path(self, p):\n",
    "        cp = p\n",
    "        print(cp)\n",
    "        res = [ ]\n",
    "        while cp.x != 0:\n",
    "            res.append([cp.y,cp.x])\n",
    "            cp = self.find_prev_point(cp)\n",
    "            print(cp)\n",
    "        res.append([cp.y,cp.x])\n",
    "        return res[::-1]\n",
    "\n",
    "    def find(self):\n",
    "        \n",
    "        if self.x_size == 1: #check if 1 column maze\n",
    "            cur_max_d = self.maze[0][0].depth\n",
    "            path = [ [0,0] ]\n",
    "            for y in range(1,self.y_size):\n",
    "                if self.maze[y][0].depth < cur_max_d:\n",
    "                    cur_max_d = self.maze[y][0].depth\n",
    "                    path = [ [y,0] ]\n",
    "            return path\n",
    "            \n",
    "        queue = PathQueue()\n",
    "        \n",
    "        for y in range(0,self.y_size):\n",
    "            queue.push(self.maze[y][0])\n",
    "            #self.cur_max_d = min(self.cur_max_d, self.maze[y][0].depth)\n",
    "            \n",
    "        best_point = None\n",
    "        while queue.is_not_empty():\n",
    "            cp = queue.pop()\n",
    "            if not best_point or cp.depth < best_point.depth:\n",
    "                next_pts = self.find_next_points(cp)\n",
    "                for np in next_pts:\n",
    "                    self.maze[np.y][np.x] = np\n",
    "                    if self.is_end_point(np):\n",
    "                          best_point = self.get_best_point(np, best_point)\n",
    "                    else:\n",
    "                        queue.push(np)\n",
    "                    \n",
    "        print('done') \n",
    "        #print(self.maze) \n",
    "        print('--') \n",
    "        print(best_point) \n",
    "        print('--')\n",
    "        return self.build_path(best_point);\n",
    "    \n",
    "    \n",
    "def shallowest_path(river):\n",
    "    if not river: return []\n",
    "    finder = PathFinder(river)\n",
    "    return finder.find()\n"
   ]
  },
  {
   "cell_type": "code",
   "execution_count": 71,
   "metadata": {},
   "outputs": [
    {
     "name": "stdout",
     "output_type": "stream",
     "text": [
      "done\n",
      "--\n",
      "Point(id=1, y=2, x=2, depth=2, steps=3)\n",
      "--\n",
      "Point(id=1, y=2, x=2, depth=2, steps=3)\n",
      "Point(id=1, y=1, x=1, depth=1, steps=2)\n",
      "Point(id=1, y=1, x=0, depth=1, steps=1)\n"
     ]
    },
    {
     "data": {
      "text/plain": [
       "[[1, 0], [1, 1], [2, 2]]"
      ]
     },
     "execution_count": 71,
     "metadata": {},
     "output_type": "execute_result"
    }
   ],
   "source": [
    "river = [\n",
    "    [2, 3, 2],\n",
    "    [1, 1, 4],\n",
    "    [9, 5, 2],\n",
    "    [1, 4, 4],\n",
    "    [1, 5, 4],\n",
    "    [2, 1, 4],\n",
    "    [5, 1, 2],\n",
    "    [5, 5, 5],\n",
    "    [8, 1, 9]\n",
    "]\n",
    "\n",
    "shallowest_path(river)"
   ]
  },
  {
   "cell_type": "code",
   "execution_count": 72,
   "metadata": {},
   "outputs": [
    {
     "data": {
      "text/plain": [
       "[[6, 0]]"
      ]
     },
     "execution_count": 72,
     "metadata": {},
     "output_type": "execute_result"
    }
   ],
   "source": [
    "river = [\n",
    "[8],\n",
    "[8],\n",
    "[8],\n",
    "[8],\n",
    "[8],\n",
    "[8],\n",
    "[5],\n",
    "[8],\n",
    "[8],\n",
    "[8],\n",
    "[8],\n",
    "[8]]\n",
    "\n",
    "shallowest_path(river)"
   ]
  },
  {
   "cell_type": "code",
   "execution_count": 73,
   "metadata": {},
   "outputs": [
    {
     "name": "stdout",
     "output_type": "stream",
     "text": [
      "done\n",
      "--\n",
      "Point(id=7, y=10, x=14, depth=42, steps=16)\n",
      "--\n",
      "Point(id=7, y=10, x=14, depth=42, steps=16)\n",
      "Point(id=7, y=11, x=13, depth=42, steps=15)\n",
      "Point(id=7, y=11, x=12, depth=42, steps=14)\n",
      "Point(id=7, y=10, x=11, depth=40, steps=13)\n",
      "Point(id=7, y=9, x=11, depth=40, steps=12)\n",
      "Point(id=7, y=8, x=10, depth=40, steps=11)\n",
      "Point(id=7, y=7, x=9, depth=40, steps=10)\n",
      "Point(id=7, y=6, x=8, depth=35, steps=9)\n",
      "Point(id=7, y=7, x=7, depth=35, steps=8)\n",
      "Point(id=7, y=7, x=6, depth=35, steps=7)\n",
      "Point(id=7, y=8, x=5, depth=35, steps=6)\n",
      "Point(id=7, y=7, x=4, depth=35, steps=5)\n",
      "Point(id=7, y=7, x=3, depth=35, steps=4)\n",
      "Point(id=7, y=8, x=2, depth=30, steps=3)\n",
      "Point(id=7, y=8, x=1, depth=19, steps=2)\n",
      "Point(id=7, y=7, x=0, depth=10, steps=1)\n"
     ]
    },
    {
     "data": {
      "text/plain": [
       "[[7, 0],\n",
       " [8, 1],\n",
       " [8, 2],\n",
       " [7, 3],\n",
       " [7, 4],\n",
       " [8, 5],\n",
       " [7, 6],\n",
       " [7, 7],\n",
       " [6, 8],\n",
       " [7, 9],\n",
       " [8, 10],\n",
       " [9, 11],\n",
       " [10, 11],\n",
       " [11, 12],\n",
       " [11, 13],\n",
       " [10, 14]]"
      ]
     },
     "execution_count": 73,
     "metadata": {},
     "output_type": "execute_result"
    }
   ],
   "source": [
    "river = [\n",
    "    [76, 30, 68, 95, 99, 48, 93, 49, 94, 55, 33, 33, 94, 28, 63], \n",
    "    [90, 94, 81, 86, 88, 27, 81, 1, 91, 53, 74, 18, 24, 13, 78], \n",
    "    [69, 61, 73, 75, 33, 6, 82, 15, 99, 12, 54, 56, 43, 83, 77], \n",
    "    [74, 34, 1, 11, 19, 55, 8, 12, 82, 24, 97, 44, 72, 50, 60], \n",
    "    [93, 78, 64, 38, 88, 14, 40, 62, 6, 61, 86, 89, 37, 51, 61], \n",
    "    [57, 81, 58, 35, 54, 76, 32, 63, 19, 25, 48, 81, 56, 52, 84], \n",
    "    [41, 31, 55, 36, 47, 60, 49, 15, 17, 25, 92, 50, 2, 75, 96], \n",
    "    [10, 44, 96, 35, 20, 50, 26, 11, 87, 40, 40, 43, 89, 44, 2], \n",
    "    [87, 19, 30, 73, 71, 24, 42, 25, 44, 31, 3, 85, 22, 86, 32], \n",
    "    [49, 82, 96, 80, 83, 97, 38, 60, 68, 11, 8, 23, 63, 58, 1], \n",
    "    [85, 79, 74, 13, 53, 57, 19, 81, 55, 97, 61, 10, 94, 1, 38], \n",
    "    [89, 29, 48, 35, 72, 59, 29, 51, 89, 55, 66, 71, 42, 28, 92], \n",
    "    [10, 6, 47, 45, 36, 35, 33, 17, 73, 42, 24, 99, 24, 13, 78], \n",
    "    [73, 77, 44, 60, 74, 90, 38, 37, 98, 27, 18, 8, 55, 69, 87], \n",
    "    [97, 7, 14, 41, 74, 38, 64, 22, 54, 22, 21, 42, 42, 45, 57]\n",
    "]\n",
    "shallowest_path(river)"
   ]
  },
  {
   "cell_type": "code",
   "execution_count": null,
   "metadata": {},
   "outputs": [],
   "source": []
  }
 ],
 "metadata": {
  "kernelspec": {
   "display_name": "Python 3",
   "language": "python",
   "name": "python3"
  },
  "language_info": {
   "codemirror_mode": {
    "name": "ipython",
    "version": 3
   },
   "file_extension": ".py",
   "mimetype": "text/x-python",
   "name": "python",
   "nbconvert_exporter": "python",
   "pygments_lexer": "ipython3",
   "version": "3.7.2"
  },
  "toc": {
   "base_numbering": 1,
   "nav_menu": {},
   "number_sections": false,
   "sideBar": false,
   "skip_h1_title": false,
   "title_cell": "Table of Contents",
   "title_sidebar": "Contents",
   "toc_cell": false,
   "toc_position": {},
   "toc_section_display": false,
   "toc_window_display": false
  }
 },
 "nbformat": 4,
 "nbformat_minor": 2
}
