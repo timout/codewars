{
 "cells": [
  {
   "cell_type": "markdown",
   "metadata": {},
   "source": [
    "#### Escape the Mines"
   ]
  },
  {
   "cell_type": "markdown",
   "metadata": {},
   "source": [
    "You need to implement a method solve(map, miner, exit) that has to return the path the miner must take to reach the exit as an array of moves, such as : ['up', 'down', 'right', 'left']. There are 4 possible moves, up, down, left and right, no diagonal.\n",
    "\n",
    "map is a 2-dimensional array of boolean values, representing squares. false for walls, true for open squares (where the miner can walk). It will never be larger than 5 x 5. It is laid out as an array of columns. All columns will always be the same size, though not necessarily the same size as rows (in other words, maps can be rectangular). The map will never contain any loop, so there will always be only one possible path. The map may contain dead-ends though.\n",
    "\n",
    "miner is the position of the miner at the start, as an object made of two zero-based integer properties, x and y. For example {x:0, y:0} would be the top-left corner.\n",
    "\n",
    "exit is the position of the exit, in the same format as miner."
   ]
  },
  {
   "cell_type": "code",
   "execution_count": null,
   "metadata": {},
   "outputs": [],
   "source": [
    "import heapq\n",
    "\n",
    "class PriorityQueue:\n",
    "    def __init__(self):\n",
    "        self.elements = []\n",
    "    \n",
    "    def empty(self):\n",
    "        return len(self.elements) == 0\n",
    "    \n",
    "    def put(self, item, priority):\n",
    "        heapq.heappush(self.elements, (priority, item))\n",
    "    \n",
    "    def get(self):\n",
    "        return heapq.heappop(self.elements)[1]"
   ]
  },
  {
   "cell_type": "code",
   "execution_count": 1,
   "metadata": {},
   "outputs": [],
   "source": [
    "import heapq\n",
    "\n",
    "class Grid:\n",
    "    def __init__(self, maze):\n",
    "        self.maze = maze\n",
    "        self.width = len(maze[0])\n",
    "        self.height = len(maze)\n",
    "    \n",
    "    def is_valid(self,pos):\n",
    "        (x,y) = pos\n",
    "        return 0 <= x < self.width and 0 <= y < self.height and self.maze[y][x]\n",
    "    \n",
    "    def neighbors(self, pos):\n",
    "        (x, y) = pos\n",
    "        moves = [(x+1, y), (x, y-1), (x-1, y), (x, y+1)]\n",
    "        results = filter(self.is_valid, moves)\n",
    "        return results\n",
    "    \n",
    "    def heuristic(self, a, b):\n",
    "        (x1, y1) = a\n",
    "        (x2, y2) = b\n",
    "        return abs(x1 - x2) + abs(y1 - y2)\n",
    "    \n",
    "    def find(self, start, goal):\n",
    "        frontier = []\n",
    "        heapq.heappush(frontier, (0, start))\n",
    "        came_from = {}\n",
    "        cost_so_far = {}\n",
    "        came_from[start] = None\n",
    "        cost_so_far[start] = 0\n",
    "\n",
    "        while len(frontier) > 0:\n",
    "            current = heapq.heappop(frontier)[1]\n",
    "            if current == goal: break\n",
    "\n",
    "            for next_pos in self.neighbors(current):\n",
    "                new_cost = cost_so_far[current] + 1\n",
    "                if next_pos not in cost_so_far or new_cost < cost_so_far[next_pos]:\n",
    "                    cost_so_far[next_pos] = new_cost\n",
    "                    priority = new_cost + self.heuristic(goal, next_pos)\n",
    "                    heapq.heappush(frontier, (priority, next_pos))\n",
    "                    came_from[next_pos] = current\n",
    "        if not cost_so_far.get(goal): return [] #cannot get to goal - return empty array\n",
    "        current  = goal\n",
    "        res = []\n",
    "        while current != start:\n",
    "            prev = came_from[current]\n",
    "            #since input grid representation directions r reversed\n",
    "            if current[0] == prev[0] + 1:\n",
    "                res.append(\"down\")\n",
    "            elif current[0] == prev[0] - 1:\n",
    "                res.append(\"up\")\n",
    "            elif current[1] == prev[1] + 1:\n",
    "                res.append(\"right\")\n",
    "            elif current[1] == prev[1] - 1:\n",
    "                res.append(\"left\")\n",
    "            current = prev\n",
    "        return res[::-1]  \n",
    "    \n",
    "def solve(maze, start, goal):\n",
    "    g = Grid(maze)\n",
    "    return g.find(start, goal)\n"
   ]
  },
  {
   "cell_type": "code",
   "execution_count": 2,
   "metadata": {},
   "outputs": [
    {
     "data": {
      "text/plain": [
       "['right', 'down']"
      ]
     },
     "execution_count": 2,
     "metadata": {},
     "output_type": "execute_result"
    }
   ],
   "source": [
    "m = [\n",
    "    [True, False],\n",
    "    [True, True]\n",
    "]\n",
    "\n",
    "solve(m, (0, 0), (1, 1) ) #Should return ['right', 'down']"
   ]
  },
  {
   "cell_type": "code",
   "execution_count": 3,
   "metadata": {},
   "outputs": [
    {
     "data": {
      "text/plain": [
       "[]"
      ]
     },
     "execution_count": 3,
     "metadata": {},
     "output_type": "execute_result"
    }
   ],
   "source": [
    "m = [[True]]\n",
    "solve(m, (0,0), (0,0))"
   ]
  },
  {
   "cell_type": "code",
   "execution_count": 4,
   "metadata": {},
   "outputs": [
    {
     "data": {
      "text/plain": [
       "['down', 'down', 'right', 'right', 'up', 'up']"
      ]
     },
     "execution_count": 4,
     "metadata": {},
     "output_type": "execute_result"
    }
   ],
   "source": [
    "m = [\n",
    "    [True, True, True],\n",
    "    [False, False, True],\n",
    "    [True, True, True]\n",
    "]\n",
    "solve(m, (0,0), (0,2) )#, ['down', 'down', 'right', 'right', 'up', 'up'])"
   ]
  },
  {
   "cell_type": "code",
   "execution_count": null,
   "metadata": {},
   "outputs": [],
   "source": []
  }
 ],
 "metadata": {
  "kernelspec": {
   "display_name": "Python 3",
   "language": "python",
   "name": "python3"
  },
  "language_info": {
   "codemirror_mode": {
    "name": "ipython",
    "version": 3
   },
   "file_extension": ".py",
   "mimetype": "text/x-python",
   "name": "python",
   "nbconvert_exporter": "python",
   "pygments_lexer": "ipython3",
   "version": "3.7.2"
  },
  "toc": {
   "base_numbering": 1,
   "nav_menu": {},
   "number_sections": false,
   "sideBar": false,
   "skip_h1_title": false,
   "title_cell": "Table of Contents",
   "title_sidebar": "Contents",
   "toc_cell": false,
   "toc_position": {},
   "toc_section_display": false,
   "toc_window_display": false
  }
 },
 "nbformat": 4,
 "nbformat_minor": 2
}
