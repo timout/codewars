{
 "cells": [
  {
   "cell_type": "markdown",
   "metadata": {},
   "source": [
    "### Bird Mountain\n",
    "\n",
    "A bird flying high above a mountain range is able to estimate the height of the highest peak.  \n",
    "<pre>\n",
    "^^^^^^\n",
    " ^^^^^^^^\n",
    "  ^^^^^^^\n",
    "  ^^^^^\n",
    "  ^^^^^^^^^^^\n",
    "  ^^^^^^\n",
    "  ^^^^\n",
    "</pre>\n",
    "1)  \n",
    "<pre>\n",
    "111111\n",
    " 1^^^^111\n",
    "  1^^^^11\n",
    "  1^^^1\n",
    "  1^^^^111111\n",
    "  1^^^11\n",
    "  1111\n",
    "</pre>  \n",
    "2)  \n",
    "<pre>\n",
    "111111\n",
    " 12222111\n",
    "  12^^211\n",
    "  12^21\n",
    "  12^^2111111\n",
    "  122211\n",
    "  1111\n",
    "</pre>  \n",
    "3)  \n",
    "<pre>\n",
    "111111\n",
    " 12222111\n",
    "  1233211\n",
    "  12321\n",
    "  12332111111\n",
    "  122211\n",
    "  1111\n",
    "</pre>  \n",
    "\n",
    "Max height = 3\n"
   ]
  },
  {
   "cell_type": "code",
   "execution_count": 15,
   "metadata": {},
   "outputs": [
    {
     "data": {
      "text/plain": [
       "kyu.Dinglemouse"
      ]
     },
     "execution_count": 15,
     "metadata": {},
     "output_type": "execute_result"
    }
   ],
   "source": [
    "package kyu;\n",
    "\n",
    "import java.util.*;\n",
    "\n",
    "public class Dinglemouse {\n",
    "    \n",
    "    public static int min(int... v) {\n",
    "        return Arrays.stream(v).min().getAsInt();\n",
    "    }\n",
    "\n",
    "    public static int peakHeight(char[][] mountain) {\n",
    "        int n = mountain.length;\n",
    "        int m = mountain[0].length;\n",
    "        int [][] map = new int[n][m];\n",
    "        for ( int i = 0; i < n; ++i ) {\n",
    "            if ( mountain[i][0] == '^') map[i][0] = 1;\n",
    "            if ( mountain[i][m-1] == '^') map[i][m-1] = 1;\n",
    "        }\n",
    "        for ( int i = 0; i < m; ++i ) {\n",
    "            if ( mountain[0][i] == '^') map[0][i] = 1;\n",
    "            if ( mountain[n-1][i] == '^') map[n-1][i] = 1;\n",
    "        }\n",
    "        for ( int i = 1; i < n-1; ++i ) {\n",
    "            for ( int j = 1; j < m-1; ++j ) {\n",
    "                if ( mountain[i][j] != '^') continue;\n",
    "                map[i][j] = min(map[i-1][j], map[i][j-1])+1;\n",
    "            }\n",
    "        }\n",
    "        for ( int i = n-2; i > 0; --i ) {\n",
    "            for ( int j = m-2; j > 0; --j ) {\n",
    "                if ( mountain[i][j] != '^') continue;\n",
    "                int mv = min(map[i+1][j], map[i][j+1]);\n",
    "                if ( mv < map[i][j] ) map[i][j] = mv + 1;\n",
    "            }\n",
    "        }\n",
    "        for ( int i = 0; i < n; ++i ) {\n",
    "            System.out.println(Arrays.toString(map[i]));\n",
    "        }\n",
    "        return Arrays.stream(map).mapToInt( a -> Arrays.stream(a).max().getAsInt() ).max().getAsInt();\n",
    "    }\n",
    "\n",
    "}"
   ]
  },
  {
   "cell_type": "code",
   "execution_count": 16,
   "metadata": {},
   "outputs": [
    {
     "name": "stdout",
     "output_type": "stream",
     "text": [
      "[1, 1, 1, 1, 1, 1, 0, 0, 0, 0, 0, 0, 0, 0]\n",
      "[0, 1, 2, 2, 2, 2, 1, 1, 1, 0, 0, 0, 0, 0]\n",
      "[0, 0, 1, 2, 3, 3, 2, 1, 1, 0, 0, 0, 0, 0]\n",
      "[0, 0, 1, 2, 3, 2, 1, 0, 0, 0, 0, 0, 0, 0]\n",
      "[0, 0, 1, 2, 3, 3, 2, 1, 1, 1, 1, 1, 1, 0]\n",
      "[0, 0, 1, 2, 2, 2, 1, 1, 0, 0, 0, 0, 0, 0]\n",
      "[0, 0, 1, 1, 1, 1, 0, 0, 0, 0, 0, 0, 0, 0]\n",
      "3\n"
     ]
    },
    {
     "data": {
      "text/plain": [
       "null"
      ]
     },
     "execution_count": 16,
     "metadata": {},
     "output_type": "execute_result"
    }
   ],
   "source": [
    "package kyu;\n",
    "\n",
    "\n",
    "char[][] mountain = {\n",
    "      \"^^^^^^        \".toCharArray(),\n",
    "      \" ^^^^^^^^     \".toCharArray(),\n",
    "      \"  ^^^^^^^     \".toCharArray(),\n",
    "      \"  ^^^^^       \".toCharArray(),\n",
    "      \"  ^^^^^^^^^^^ \".toCharArray(),\n",
    "      \"  ^^^^^^      \".toCharArray(),\n",
    "      \"  ^^^^        \".toCharArray()\n",
    "}; \n",
    "\n",
    "System.out.println(Dinglemouse.peakHeight(mountain));"
   ]
  },
  {
   "cell_type": "code",
   "execution_count": 17,
   "metadata": {},
   "outputs": [
    {
     "name": "stdout",
     "output_type": "stream",
     "text": [
      "[0, 0, 0, 0, 0, 1, 1, 1, 1, 1, 1, 0]\n",
      "[0, 1, 1, 1, 1, 2, 2, 2, 1, 0, 0, 0]\n",
      "[1, 1, 2, 2, 2, 3, 3, 2, 1, 0, 0, 0]\n",
      "[0, 0, 1, 2, 3, 4, 4, 3, 2, 1, 0, 0]\n",
      "[0, 0, 1, 2, 3, 4, 5, 4, 3, 2, 1, 0]\n",
      "[1, 1, 2, 3, 4, 5, 5, 4, 3, 2, 1, 0]\n",
      "[1, 1, 2, 3, 4, 5, 5, 4, 3, 2, 1, 0]\n",
      "[0, 0, 1, 2, 3, 4, 5, 4, 3, 2, 1, 0]\n",
      "[0, 0, 1, 2, 3, 4, 4, 3, 2, 1, 0, 0]\n",
      "[0, 0, 1, 2, 3, 4, 3, 2, 1, 0, 0, 0]\n",
      "[0, 0, 1, 2, 3, 3, 2, 1, 0, 0, 0, 0]\n",
      "[0, 0, 0, 1, 2, 2, 3, 2, 1, 0, 0, 0]\n",
      "[0, 0, 0, 0, 1, 1, 2, 2, 1, 0, 0, 0]\n",
      "[0, 0, 0, 0, 0, 0, 1, 1, 0, 0, 0, 0]\n",
      "5\n"
     ]
    },
    {
     "data": {
      "text/plain": [
       "null"
      ]
     },
     "execution_count": 17,
     "metadata": {},
     "output_type": "execute_result"
    }
   ],
   "source": [
    "package kyu;\n",
    "\n",
    "char[][] mountain = {\n",
    "      \"     ^^^^^^ \".toCharArray(),\n",
    "      \" ^^^^^^^^   \".toCharArray(),\n",
    "      \"^^^^^^^^^   \".toCharArray(),\n",
    "      \"  ^^^^^^^^  \".toCharArray(),\n",
    "      \"  ^^^^^^^^^ \".toCharArray(),\n",
    "      \"^^^^^^^^^^^ \".toCharArray(),\n",
    "      \"^^^^^^^^^^^ \".toCharArray(),\n",
    "      \"  ^^^^^^^^^ \".toCharArray(),\n",
    "      \"  ^^^^^^^^  \".toCharArray(),\n",
    "      \"  ^^^^^^^   \".toCharArray(),\n",
    "      \"  ^^^^^^    \".toCharArray(),\n",
    "      \"   ^^^^^^   \".toCharArray(),\n",
    "      \"    ^^^^^   \".toCharArray(),\n",
    "      \"      ^^    \".toCharArray()\n",
    "}; \n",
    "\n",
    "System.out.println(Dinglemouse.peakHeight(mountain));\n",
    "\n"
   ]
  },
  {
   "cell_type": "code",
   "execution_count": null,
   "metadata": {},
   "outputs": [],
   "source": []
  }
 ],
 "metadata": {
  "kernelspec": {
   "display_name": "Java",
   "language": "java",
   "name": "java"
  },
  "language_info": {
   "codemirror_mode": "text/x-java",
   "file_extension": ".java",
   "mimetype": "",
   "name": "Java",
   "nbconverter_exporter": "",
   "version": "11.0.1"
  },
  "toc": {
   "base_numbering": 1,
   "nav_menu": {},
   "number_sections": false,
   "sideBar": false,
   "skip_h1_title": false,
   "title_cell": "Table of Contents",
   "title_sidebar": "Contents",
   "toc_cell": false,
   "toc_position": {},
   "toc_section_display": false,
   "toc_window_display": false
  }
 },
 "nbformat": 4,
 "nbformat_minor": 2
}
