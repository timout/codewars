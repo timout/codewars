{
 "cells": [
  {
   "cell_type": "markdown",
   "metadata": {},
   "source": [
    "### BirdMountain - The River\n",
    "\n",
    "A high flying bird is able to estimate the contours of the ground below.  \n",
    "He sees hills and valleys, he sees plains and mountains.  \n",
    "But this time our protagonist bird also sees a RIVER.  \n",
    "Not only that, but he sees that the river is rising rapidly, so much so that in a few days it threatens to inundate the surrounding land.  \n",
    "And all this is very important to the bird because he cannot land on water!  "
   ]
  },
  {
   "cell_type": "code",
   "execution_count": 1,
   "metadata": {},
   "outputs": [
    {
     "data": {
      "text/plain": [
       "kyu.Dinglemouse"
      ]
     },
     "execution_count": 1,
     "metadata": {},
     "output_type": "execute_result"
    }
   ],
   "source": [
    "package kyu;\n",
    "\n",
    "import java.util.*;\n",
    "\n",
    "public class Dinglemouse {\n",
    "    \n",
    "    static class Pos {\n",
    "        public final int i;\n",
    "        public final int j;\n",
    "        public Pos(int i, int j){\n",
    "            this.i = i;\n",
    "            this.j = j;\n",
    "        }\n",
    "        \n",
    "        public Pos add(Pos p) {\n",
    "            return new Pos(i + p.i, j + p.j);\n",
    "        }\n",
    "    }\n",
    "    \n",
    "    static Pos [] steps = new Pos [] { new Pos(0,1), new Pos(0,-1), new Pos(1,0), new Pos(-1,0) };\n",
    "    \n",
    "    public static boolean isIn(Pos p, int[][] map) {\n",
    "        int n = map.length;\n",
    "        int m = map[0].length;\n",
    "        return p.i >= 0 && p.i < n && p.j >= 0 && p.j < m;\n",
    "    }\n",
    "    \n",
    "    public static boolean isValid(Pos p, int v, int[][] map) {\n",
    "        return map[p.i][p.j] >= 0 && map[p.i][p.j] < v;\n",
    "    }\n",
    "    \n",
    "    public static boolean hasValid(Pos p, int[][] map) {\n",
    "        return map[p.i][p.j] >= 0;\n",
    "    }\n",
    "    \n",
    "    public static int min(int... v) {\n",
    "        return Arrays.stream(v).min().getAsInt();\n",
    "    }\n",
    "    \n",
    "    public static int [] dryGround(char[][] mountain) {\n",
    "        int n = ( mountain == null ) ? 0 : mountain.length;\n",
    "        int m = ( n == 0 ) ? 0 : mountain[0].length;\n",
    "        if ( n == 0 || m == 0 ) return new int[]{0,0,0,0}; \n",
    "        int [][] map = new int[n][m];\n",
    "        LinkedList<Pos> q = new LinkedList<>();\n",
    "        int [] res = new int[4];\n",
    "        res[0] = n*m;\n",
    "        for ( int i = 0; i < n; ++i ) {\n",
    "            if ( mountain[i][0] == '^') map[i][0] = 1;\n",
    "            if ( mountain[i][m-1] == '^') map[i][m-1] = 1;\n",
    "        }\n",
    "        for ( int i = 0; i < m; ++i ) {\n",
    "            if ( mountain[0][i] == '^') map[0][i] = 1;\n",
    "            if ( mountain[n-1][i] == '^') map[n-1][i] = 1;\n",
    "        }\n",
    "        for ( int i = 1; i < n-1; ++i ) {\n",
    "            for ( int j = 1; j < m-1; ++j ) {\n",
    "                if ( mountain[i][j] != '^') continue;\n",
    "                map[i][j] = min(map[i-1][j], map[i][j-1])+1;\n",
    "            }\n",
    "        }\n",
    "        for ( int i = n-2; i > 0; --i ) {\n",
    "            for ( int j = m-2; j > 0; --j ) {\n",
    "                if ( mountain[i][j] != '^') continue;\n",
    "                int mv = min(map[i+1][j], map[i][j+1]);\n",
    "                if ( mv < map[i][j] ) map[i][j] = mv + 1;\n",
    "            }\n",
    "        }\n",
    "        for ( int i = 0; i < n; ++i ) {\n",
    "            for ( int j = 0; j < m; ++j ) {\n",
    "                if ( mountain[i][j] == '-') {\n",
    "                    map[i][j] = -1;\n",
    "                    q.add(new Pos(i,j));\n",
    "                    res[0] -= 1;\n",
    "                }\n",
    "            }\n",
    "        }\n",
    "        for ( int i = 0; i < n; ++i ) {\n",
    "            System.out.println(Arrays.toString(map[i]));\n",
    "        }\n",
    "        System.out.println(\"----------\");\n",
    "        for ( int t = 1; t < 4; ++t ) {\n",
    "            res[t] = res[t-1];\n",
    "            if ( q.size() == 0 ) continue;\n",
    "            LinkedList<Pos> nq = q;\n",
    "            q = new LinkedList<>();\n",
    "            while ( nq.size() > 0 ) {\n",
    "                Pos p = nq.pollFirst();\n",
    "                for ( Pos s : steps ) {\n",
    "                    Pos np = p.add(s);\n",
    "                    if ( ! isIn(np, map) ) continue;\n",
    "                    if ( isValid(np, t, map) ) {\n",
    "                        map[np.i][np.j] = -1;\n",
    "                        nq.add(np);\n",
    "                        res[t] -= 1;\n",
    "                    } else if ( hasValid(np, map)  ) {\n",
    "                        q.add(p);\n",
    "                    }\n",
    "                }\n",
    "            }\n",
    "        }\n",
    "        for ( int i = 0; i < n; ++i ) {\n",
    "            System.out.println(Arrays.toString(map[i]));\n",
    "        }\n",
    "        return res;\n",
    "    }\n",
    "\n",
    "}\n"
   ]
  },
  {
   "cell_type": "code",
   "execution_count": 2,
   "metadata": {},
   "outputs": [
    {
     "name": "stdout",
     "output_type": "stream",
     "text": [
      "[1, 1, 1, 1, 1, 1, 0, 0, 0, 0, 0, 0, 0, 0]\n",
      "[0, 1, 2, 2, 2, 2, 1, 1, 1, 1, 1, 0, 0, 0]\n",
      "[0, 0, 1, 2, 3, 3, 2, 2, 2, 2, 1, 0, 0, 0]\n",
      "[0, 0, 1, 2, 3, 4, 3, 3, 3, 2, 1, 0, 0, 0]\n",
      "[0, 0, 1, 2, 3, 3, 3, 3, 3, 3, 2, 1, 1, 0]\n",
      "[0, 0, 1, 2, 2, 2, 2, 2, 2, 2, 2, 1, 0, 0]\n",
      "[0, 0, 1, 1, 1, 1, 1, 1, 1, 1, 1, 0, 0, 0]\n",
      "[-1, -1, -1, -1, -1, -1, -1, -1, -1, -1, -1, -1, -1, -1]\n",
      "----------\n",
      "[-1, -1, -1, -1, -1, -1, -1, -1, -1, -1, -1, -1, -1, -1]\n",
      "[-1, -1, -1, -1, -1, -1, -1, -1, -1, -1, -1, -1, -1, -1]\n",
      "[-1, -1, -1, -1, 3, 3, -1, -1, -1, -1, -1, -1, -1, -1]\n",
      "[-1, -1, -1, -1, 3, 4, 3, 3, 3, -1, -1, -1, -1, -1]\n",
      "[-1, -1, -1, -1, 3, 3, 3, 3, 3, 3, -1, -1, -1, -1]\n",
      "[-1, -1, -1, -1, -1, -1, -1, -1, -1, -1, -1, -1, -1, -1]\n",
      "[-1, -1, -1, -1, -1, -1, -1, -1, -1, -1, -1, -1, -1, -1]\n",
      "[-1, -1, -1, -1, -1, -1, -1, -1, -1, -1, -1, -1, -1, -1]\n",
      "[98, 64, 34, 13]\n"
     ]
    },
    {
     "data": {
      "text/plain": [
       "null"
      ]
     },
     "execution_count": 2,
     "metadata": {},
     "output_type": "execute_result"
    }
   ],
   "source": [
    "package kyu;\n",
    "\n",
    "import java.util.*;\n",
    "\n",
    "char[][] mountain = {\n",
    "      \"^^^^^^        \".toCharArray(),\n",
    "      \" ^^^^^^^^^^   \".toCharArray(),\n",
    "      \"  ^^^^^^^^^   \".toCharArray(),\n",
    "      \"  ^^^^^^^^^   \".toCharArray(),\n",
    "      \"  ^^^^^^^^^^^ \".toCharArray(),\n",
    "      \"  ^^^^^^^^^^  \".toCharArray(),\n",
    "      \"  ^^^^^^^^^   \".toCharArray(),\n",
    "      \"--------------\".toCharArray()\n",
    "}; \n",
    "int [] res = Dinglemouse.dryGround(mountain);\n",
    "System.out.println(Arrays.toString(res));\n"
   ]
  },
  {
   "cell_type": "code",
   "execution_count": 3,
   "metadata": {},
   "outputs": [
    {
     "name": "stdout",
     "output_type": "stream",
     "text": [
      "[0, 0, 1, 1, 1, 1, 1, 1, 0, 0, 0, 0, 0, 0, 0, 0, 0, 0, 0, 0, 0]\n",
      "[1, 1, 2, 2, 2, 2, 2, 1, 0, 0, 0, 0, 0, 0, 0, 1, 1, 1, 0, 0, 0]\n",
      "[1, 2, 3, 3, 3, 2, 1, 0, 0, 1, 1, 1, 0, 0, 0, 0, 0, 0, 0, 0, 0]\n",
      "[1, 2, 2, 2, 2, 2, 1, 0, 0, 1, 2, 1, 0, 0, 0, 0, 0, 0, 0, 0, 0]\n",
      "[1, 1, 1, 1, 1, 1, 1, 0, 0, 1, 1, 1, 0, 0, 0, 0, 0, 0, 0, 0, 0]\n",
      "[-1, -1, -1, -1, -1, -1, -1, -1, -1, -1, -1, -1, -1, -1, -1, -1, -1, -1, -1, -1, -1]\n",
      "[1, 1, 1, 1, 1, 0, 0, 0, 0, 0, 0, 0, 0, 0, 0, 0, 0, 0, 0, 0, 0]\n",
      "[0, 0, 0, 1, 2, 1, 1, 1, 1, 1, 1, 0, 0, 1, 1, 1, 1, 1, 1, 1, 0]\n",
      "[1, 1, 1, 2, 2, 1, 1, 1, 0, 0, 0, 0, 0, 1, 0, 0, 0, 0, 0, 1, 0]\n",
      "[1, 1, 1, 1, 1, 0, 0, 0, 0, 0, 0, 0, 0, 1, 1, 1, 1, 1, 1, 1, 0]\n",
      "----------\n",
      "[-1, -1, -1, -1, -1, -1, -1, -1, -1, -1, -1, -1, -1, -1, -1, -1, -1, -1, -1, -1, -1]\n",
      "[-1, -1, -1, -1, -1, -1, -1, -1, -1, -1, -1, -1, -1, -1, -1, -1, -1, -1, -1, -1, -1]\n",
      "[-1, -1, 3, 3, 3, -1, -1, -1, -1, -1, -1, -1, -1, -1, -1, -1, -1, -1, -1, -1, -1]\n",
      "[-1, -1, -1, -1, -1, -1, -1, -1, -1, -1, -1, -1, -1, -1, -1, -1, -1, -1, -1, -1, -1]\n",
      "[-1, -1, -1, -1, -1, -1, -1, -1, -1, -1, -1, -1, -1, -1, -1, -1, -1, -1, -1, -1, -1]\n",
      "[-1, -1, -1, -1, -1, -1, -1, -1, -1, -1, -1, -1, -1, -1, -1, -1, -1, -1, -1, -1, -1]\n",
      "[-1, -1, -1, -1, -1, -1, -1, -1, -1, -1, -1, -1, -1, -1, -1, -1, -1, -1, -1, -1, -1]\n",
      "[-1, -1, -1, -1, -1, -1, -1, -1, -1, -1, -1, -1, -1, -1, -1, -1, -1, -1, -1, -1, -1]\n",
      "[-1, -1, -1, -1, -1, -1, -1, -1, -1, -1, -1, -1, -1, -1, -1, -1, -1, -1, -1, -1, -1]\n",
      "[-1, -1, -1, -1, -1, -1, -1, -1, -1, -1, -1, -1, -1, -1, -1, -1, -1, -1, -1, -1, -1]\n",
      "[189, 99, 19, 3]\n"
     ]
    },
    {
     "data": {
      "text/plain": [
       "null"
      ]
     },
     "execution_count": 3,
     "metadata": {},
     "output_type": "execute_result"
    }
   ],
   "source": [
    "package kyu;\n",
    "\n",
    "import java.util.*;\n",
    "\n",
    "char[][] mountain = {\n",
    "      \"  ^^^^^^             \".toCharArray(),\n",
    "      \"^^^^^^^^       ^^^   \".toCharArray(),\n",
    "      \"^^^^^^^  ^^^         \".toCharArray(),\n",
    "      \"^^^^^^^  ^^^         \".toCharArray(),\n",
    "      \"^^^^^^^  ^^^         \".toCharArray(),\n",
    "      \"---------------------\".toCharArray(),\n",
    "      \"^^^^^                \".toCharArray(),\n",
    "      \"   ^^^^^^^^  ^^^^^^^ \".toCharArray(),\n",
    "      \"^^^^^^^^     ^     ^ \".toCharArray(),\n",
    "      \"^^^^^        ^^^^^^^ \".toCharArray() \n",
    "}; \n",
    "int [] res = Dinglemouse.dryGround(mountain);\n",
    "System.out.println(Arrays.toString(res));\n",
    "//{189,99,19,3}\n"
   ]
  },
  {
   "cell_type": "code",
   "execution_count": 4,
   "metadata": {},
   "outputs": [
    {
     "name": "stdout",
     "output_type": "stream",
     "text": [
      "[1, 1, 1, 1, 1, 1, 1, 1, 1, 1]\n",
      "[1, 2, 2, 2, 2, 2, 2, 2, 2, 1]\n",
      "[1, 2, 3, 3, 3, 3, 3, 3, 2, 1]\n",
      "[1, 2, 3, 3, 3, 3, 3, 3, 2, 1]\n",
      "[1, 2, 2, 2, 2, 2, 2, 2, 2, 1]\n",
      "[1, 1, 1, 1, 1, 1, 1, 1, 1, 1]\n",
      "----------\n",
      "[1, 1, 1, 1, 1, 1, 1, 1, 1, 1]\n",
      "[1, 2, 2, 2, 2, 2, 2, 2, 2, 1]\n",
      "[1, 2, 3, 3, 3, 3, 3, 3, 2, 1]\n",
      "[1, 2, 3, 3, 3, 3, 3, 3, 2, 1]\n",
      "[1, 2, 2, 2, 2, 2, 2, 2, 2, 1]\n",
      "[1, 1, 1, 1, 1, 1, 1, 1, 1, 1]\n",
      "[60, 60, 60, 60]\n"
     ]
    },
    {
     "data": {
      "text/plain": [
       "null"
      ]
     },
     "execution_count": 4,
     "metadata": {},
     "output_type": "execute_result"
    }
   ],
   "source": [
    "package kyu;\n",
    "\n",
    "import java.util.*;\n",
    "\n",
    "char[][] mountain = {\n",
    "      \"^^^^^^^^^^\".toCharArray(),\n",
    "      \"^^^^^^^^^^\".toCharArray(),\n",
    "      \"^^^^^^^^^^\".toCharArray(),\n",
    "      \"^^^^^^^^^^\".toCharArray(),\n",
    "      \"^^^^^^^^^^\".toCharArray(),\n",
    "      \"^^^^^^^^^^\".toCharArray() \n",
    "}; \n",
    "int [] res = Dinglemouse.dryGround(mountain);\n",
    "System.out.println(Arrays.toString(res));"
   ]
  },
  {
   "cell_type": "code",
   "execution_count": null,
   "metadata": {},
   "outputs": [],
   "source": []
  }
 ],
 "metadata": {
  "kernelspec": {
   "display_name": "Java",
   "language": "java",
   "name": "java"
  },
  "language_info": {
   "codemirror_mode": "text/x-java",
   "file_extension": ".java",
   "mimetype": "",
   "name": "Java",
   "nbconverter_exporter": "",
   "version": "11.0.1"
  },
  "toc": {
   "base_numbering": 1,
   "nav_menu": {},
   "number_sections": false,
   "sideBar": false,
   "skip_h1_title": false,
   "title_cell": "Table of Contents",
   "title_sidebar": "Contents",
   "toc_cell": false,
   "toc_position": {},
   "toc_section_display": false,
   "toc_window_display": false
  }
 },
 "nbformat": 4,
 "nbformat_minor": 2
}
