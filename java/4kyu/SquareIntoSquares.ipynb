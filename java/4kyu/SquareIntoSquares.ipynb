{
 "cells": [
  {
   "cell_type": "markdown",
   "metadata": {},
   "source": [
    "### Square into Squares\n",
    "\n",
    "Given a positive integral number n, return a strictly increasing sequence of numbers, so that the sum of the squares is equal to square of n.  \n",
    "If there are multiple solutions, return as far as possible the result with the largest possible values:  \n",
    "Examples  \n",
    "- decompose(11) must return [1,2,4,10]. Note that there are actually two ways to decompose 11², 11² = 121 = 1 + 4 + 16 + 100 = 1² + 2² + 4² + 10² but don't return [2,6,9], since 9 is smaller than 10.\n",
    "\n",
    "- For decompose(50) don't return [1, 1, 4, 9, 49] but [1, 3, 5, 8, 49] since [1, 1, 4, 9, 49] doesn't form a strictly increasing sequence.\n",
    "\n",
    "Hint\n",
    "Very often will be [.., n-1 ] "
   ]
  },
  {
   "cell_type": "code",
   "execution_count": 1,
   "metadata": {},
   "outputs": [
    {
     "data": {
      "text/plain": [
       "timout.NumberAsASumOfSquares"
      ]
     },
     "execution_count": 1,
     "metadata": {},
     "output_type": "execute_result"
    }
   ],
   "source": [
    "package timout;\n",
    "\n",
    "import java.util.*;\n",
    "import java.util.stream.Collectors;\n",
    "\n",
    "public class NumberAsASumOfSquares {\n",
    "\n",
    "    List<Long> find(long cur, long sum) {\n",
    "        if ( cur == 0 )  return Collections.emptyList();\n",
    "\n",
    "        for ( long i = cur; i > 0; --i ) {\n",
    "            long ii = i * i;\n",
    "            long curRest = sum - ii;\n",
    "            if ( curRest == 0 ) {\n",
    "                return new LinkedList<>(Collections.singletonList(i));\n",
    "            } else  if ( curRest > 0 ) {\n",
    "                List<Long> res = find(i-1, curRest );\n",
    "                if ( ! res.isEmpty() ) {\n",
    "                    res.add(i);\n",
    "                    return res;\n",
    "                }\n",
    "            }\n",
    "        }\n",
    "        return Collections.emptyList();\n",
    "    }\n",
    "\n",
    "    public  String find(long n) {\n",
    "        if ( n < 4 ) return null;\n",
    "        long sumToFind = n * n;\n",
    "        List<Long> res = find(n-1, sumToFind);\n",
    "        if ( res.isEmpty() ) return null;\n",
    "        return res.stream().map(Object::toString).collect(Collectors.joining(\",\"));\n",
    "    }\n",
    "}\n"
   ]
  },
  {
   "cell_type": "code",
   "execution_count": 2,
   "metadata": {},
   "outputs": [
    {
     "name": "stdout",
     "output_type": "stream",
     "text": [
      "3,4\n"
     ]
    },
    {
     "data": {
      "text/plain": [
       "null"
      ]
     },
     "execution_count": 2,
     "metadata": {},
     "output_type": "execute_result"
    }
   ],
   "source": [
    "package timout;\n",
    "\n",
    "String res = (new NumberAsASumOfSquares()).find(5);\n",
    "System.out.println(res); //3,4"
   ]
  },
  {
   "cell_type": "code",
   "execution_count": 3,
   "metadata": {},
   "outputs": [
    {
     "name": "stdout",
     "output_type": "stream",
     "text": [
      "1,2,4,10\n"
     ]
    },
    {
     "data": {
      "text/plain": [
       "null"
      ]
     },
     "execution_count": 3,
     "metadata": {},
     "output_type": "execute_result"
    }
   ],
   "source": [
    "package timout;\n",
    "\n",
    "String res = (new NumberAsASumOfSquares()).find(11);\n",
    "System.out.println(res); //3,4"
   ]
  },
  {
   "cell_type": "code",
   "execution_count": 4,
   "metadata": {},
   "outputs": [
    {
     "name": "stdout",
     "output_type": "stream",
     "text": [
      "1,3,5,8,49\n"
     ]
    },
    {
     "data": {
      "text/plain": [
       "null"
      ]
     },
     "execution_count": 4,
     "metadata": {},
     "output_type": "execute_result"
    }
   ],
   "source": [
    "package timout;\n",
    "\n",
    "String res = (new NumberAsASumOfSquares()).find(50);\n",
    "System.out.println(res); //3,4"
   ]
  },
  {
   "cell_type": "code",
   "execution_count": null,
   "metadata": {},
   "outputs": [],
   "source": []
  }
 ],
 "metadata": {
  "kernelspec": {
   "display_name": "Java",
   "language": "java",
   "name": "java"
  },
  "language_info": {
   "codemirror_mode": "text/x-java",
   "file_extension": ".java",
   "mimetype": "",
   "name": "Java",
   "nbconverter_exporter": "",
   "version": "1.8.0_121"
  },
  "toc": {
   "base_numbering": 1,
   "nav_menu": {},
   "number_sections": false,
   "sideBar": false,
   "skip_h1_title": false,
   "title_cell": "Table of Contents",
   "title_sidebar": "Contents",
   "toc_cell": false,
   "toc_position": {},
   "toc_section_display": false,
   "toc_window_display": false
  }
 },
 "nbformat": 4,
 "nbformat_minor": 2
}
