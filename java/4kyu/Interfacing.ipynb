{
 "cells": [
  {
   "cell_type": "markdown",
   "metadata": {},
   "source": [
    "Write a function that creates an object, which implements a couple of interfaces.  \n",
    "In fact, an entire list of interfaces. The catch?   \n",
    "The list is different every time, and is in fact, essentially random.\n",
    "\n",
    "You do know a bit about what the interfaces are supposed to do, however. \n",
    "Each interface declares a list of method pairs, each of which is made up of a get and a set method.   \n",
    "For example, you might run into an interface like this:  \n",
    "`  \n",
    "public interface Date {\n",
    "\n",
    "    Integer getYear();\n",
    "\n",
    "    void setYear(Integer i);\n",
    "\n",
    "    Integer getMonth();\n",
    "\n",
    "    void setMonth(Integer i);\n",
    "\n",
    "}  \n",
    "`  \n",
    "This interface being called Date, and having Year and Month as its method pairs. All of the interfaces will generally follow this pattern, some declaring more methods, some declaring less. You also know that you'll never run into any combination of interfaces that declare conflicting methods. Every interface is entirely unique and semi-random.\n"
   ]
  },
  {
   "cell_type": "code",
   "execution_count": 1,
   "metadata": {},
   "outputs": [
    {
     "data": {
      "text/plain": [
       "kyu.I1"
      ]
     },
     "execution_count": 1,
     "metadata": {},
     "output_type": "execute_result"
    }
   ],
   "source": [
    "package kyu;\n",
    "\n",
    "interface I1 {\n",
    "\n",
    "    Integer getYear();\n",
    "\n",
    "    void setYear(Integer i);\n",
    "\n",
    "    Integer getMonth();\n",
    "\n",
    "    void setMonth(Integer i);\n",
    "\n",
    "}\n",
    "\n",
    "interface I2 {\n",
    "\n",
    "    Integer getValue();\n",
    "\n",
    "    void setValue(Integer i);\n",
    "\n",
    "}\n"
   ]
  },
  {
   "cell_type": "code",
   "execution_count": 4,
   "metadata": {},
   "outputs": [
    {
     "data": {
      "text/plain": [
       "kyu.HandlerImpl"
      ]
     },
     "execution_count": 4,
     "metadata": {},
     "output_type": "execute_result"
    }
   ],
   "source": [
    "package kyu;\n",
    "\n",
    "import java.lang.reflect.*;\n",
    "import java.util.*;\n",
    "\n",
    "public class HandlerImpl implements InvocationHandler {\n",
    "\n",
    "    private final HashMap<String, Object> valueMap = new HashMap<>();\n",
    "\n",
    "    @Override\n",
    "    public Object invoke(Object proxy, Method method, Object[] args) throws Throwable {\n",
    "        String methodName = method.getName();\n",
    "        if ( methodName.startsWith(\"get\") ) {\n",
    "            return valueMap.getOrDefault(methodName.substring(3), null);\n",
    "        } else if ( methodName.startsWith(\"set\") ) {\n",
    "            valueMap.put(methodName.substring(3), args[0]);\n",
    "        }\n",
    "        return null;\n",
    "    }\n",
    "}"
   ]
  },
  {
   "cell_type": "code",
   "execution_count": 6,
   "metadata": {},
   "outputs": [
    {
     "data": {
      "text/plain": [
       "kyu.InterfacesWrapper"
      ]
     },
     "execution_count": 6,
     "metadata": {},
     "output_type": "execute_result"
    }
   ],
   "source": [
    "package kyu;\n",
    "\n",
    "import java.lang.reflect.*;\n",
    "import java.util.*;\n",
    "\n",
    "\n",
    "public class InterfacesWrapper {\n",
    "\n",
    "    public static Object create(Class<?>[] interfaces) {\n",
    "        return Proxy.newProxyInstance(\n",
    "                interfaces[0].getClassLoader(),\n",
    "                interfaces,\n",
    "                new HandlerImpl());\n",
    "    }\n",
    "\n",
    "}\n"
   ]
  },
  {
   "cell_type": "code",
   "execution_count": 7,
   "metadata": {},
   "outputs": [
    {
     "name": "stdout",
     "output_type": "stream",
     "text": [
      "1\n",
      "3\n",
      "2\n"
     ]
    },
    {
     "data": {
      "text/plain": [
       "null"
      ]
     },
     "execution_count": 7,
     "metadata": {},
     "output_type": "execute_result"
    }
   ],
   "source": [
    "package kyu;\n",
    "\n",
    "Object o = InterfacesWrapper.create(new Class[]{I1.class, I2.class});\n",
    "\n",
    "I1 i1 = (I1) o;\n",
    "i1.setMonth(1);\n",
    "i1.setYear(2);\n",
    "I2 i2 = (I2) o;\n",
    "i2.setValue(3);\n",
    "System.out.println(i1.getMonth());\n",
    "System.out.println(i2.getValue());\n",
    "System.out.println(i1.getYear());\n"
   ]
  },
  {
   "cell_type": "code",
   "execution_count": null,
   "metadata": {},
   "outputs": [],
   "source": []
  }
 ],
 "metadata": {
  "kernelspec": {
   "display_name": "Java",
   "language": "java",
   "name": "java"
  },
  "language_info": {
   "codemirror_mode": "text/x-java",
   "file_extension": ".java",
   "mimetype": "",
   "name": "Java",
   "nbconverter_exporter": "",
   "version": "1.8.0_121"
  },
  "toc": {
   "base_numbering": 1,
   "nav_menu": {},
   "number_sections": false,
   "sideBar": false,
   "skip_h1_title": false,
   "title_cell": "Table of Contents",
   "title_sidebar": "Contents",
   "toc_cell": false,
   "toc_position": {},
   "toc_section_display": false,
   "toc_window_display": false
  }
 },
 "nbformat": 4,
 "nbformat_minor": 2
}
