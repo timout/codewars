{
 "cells": [
  {
   "cell_type": "markdown",
   "metadata": {},
   "source": [
    "### Most frequently used words in a text\n",
    "\n",
    "Write a function that, given a string of text (possibly with punctuation and line-breaks),  \n",
    "returns an array of the top-3 most occurring words, in descending order of the number of occurrences.  \n",
    "Assumptions:  \n",
    "\n",
    "A word is a string of letters (A to Z) optionally containing one or more apostrophes (') in ASCII.   \n",
    "(No need to handle fancy punctuation.)  \n",
    "Matches should be case-insensitive, and the words in the result should be lowercased.  \n",
    "Ties may be broken arbitrarily.  \n",
    "If a text contains fewer than three unique words, then either the top-2 or top-1 words should be returned,  \n",
    "or an empty array if a text contains no words.  \n"
   ]
  },
  {
   "cell_type": "code",
   "execution_count": 88,
   "metadata": {},
   "outputs": [
    {
     "data": {
      "text/plain": [
       "kyu.TopWords"
      ]
     },
     "execution_count": 88,
     "metadata": {},
     "output_type": "execute_result"
    }
   ],
   "source": [
    "package kyu;\n",
    "\n",
    "import java.util.*;\n",
    "import java.util.stream.Collectors;\n",
    "\n",
    "public class TopWords {\n",
    "    \n",
    "    public static int SIZE = 3;\n",
    "    \n",
    "    private static class EntryComparator implements Comparator<Map.Entry<String, Integer>> {\n",
    "        \n",
    "        public int compare(Map.Entry<String, Integer> e1, Map.Entry<String, Integer> e2) {\n",
    "            // reverse normal so largest is \"first\"\n",
    "            int comp = Integer.compare(e1.getValue(), e2.getValue());\n",
    "            return (comp != 0) ? -comp : 0;\n",
    "        }\n",
    "    }\n",
    "    \n",
    "    public static List<String> top3(String s) {\n",
    "        if ( s == null || s.isEmpty() ) return Collections.emptyList();\n",
    "        HashMap<String, Integer> map = new HashMap<>();\n",
    "        StringBuilder buf = new StringBuilder();\n",
    "        for( char c : s.toCharArray() ) {\n",
    "            if ( Character.isLetter(c) || '\\'' == c ) {\n",
    "                buf.append(c);\n",
    "            } else if (buf.length() > 0) {\n",
    "                String w = buf.toString().toLowerCase();\n",
    "                if ( ! w.matches(\"'+\") ) {\n",
    "                    int count = map.getOrDefault(w, 0);\n",
    "                    map.put(w, count + 1);\n",
    "                }\n",
    "                buf = new StringBuilder();\n",
    "            }\n",
    "        }\n",
    "        if (buf.length() > 0) {\n",
    "            String w = buf.toString().toLowerCase();\n",
    "            if ( ! w.matches(\"'+\") ) {\n",
    "                int count = map.getOrDefault(w, 0);\n",
    "                map.put(w, count + 1);\n",
    "            }\n",
    "        }\n",
    "        \n",
    "        LinkedList<Map.Entry<String, Integer>> queue = new LinkedList<>();\n",
    "        EntryComparator cmp = new EntryComparator();\n",
    "        System.out.println(map);\n",
    "        for (Map.Entry<String, Integer> e : map.entrySet()) {\n",
    "            queue.add(e);\n",
    "            Collections.sort(queue, cmp); \n",
    "            if (queue.size() > SIZE ) queue.removeLast();\n",
    "        }\n",
    "        return queue.stream().map(e -> e.getKey() ).collect(Collectors.toList());\n",
    "    }\n",
    "}"
   ]
  },
  {
   "cell_type": "code",
   "execution_count": 89,
   "metadata": {},
   "outputs": [
    {
     "name": "stdout",
     "output_type": "stream",
     "text": [
      "{salad=1, mancha=1, greyhound=1, beef=1, three=1, that=1, hack=1, coursing=1, his=1, than=1, those=1, which=1, mutton=1, pigeon=1, lance=2, in=2, saturdays=1, old=1, olla=1, made=1, scraps=1, an=2, most=1, keep=1, name=1, since=1, income=1, no=1, away=1, rather=1, for=1, long=1, fridays=1, buckler=1, not=1, lean=1, and=2, of=5, extra=1, have=1, lived=1, village=1, so=1, on=4, a=6, mind=1, rack=1, desire=1, or=1, more=1, one=1, quarters=1, i=1, lentils=1, the=2, call=1, with=1, sundays=1, la=1, nights=1, there=1, gentlemen=1, to=2}\n",
      "[a, of, on]\n"
     ]
    },
    {
     "data": {
      "text/plain": [
       "null"
      ]
     },
     "execution_count": 89,
     "metadata": {},
     "output_type": "execute_result"
    }
   ],
   "source": [
    "package kyu;\n",
    "\n",
    "import java.util.*;\n",
    "\n",
    "List<String> res = TopWords.top3(\n",
    "    \"In a village of La Mancha, the name of which I have no desire to call to\\n\" +\n",
    "    \"mind, there lived not long since one of those gentlemen that keep a lance\\n\" +\n",
    "    \"in the lance-rack, an old buckler, a lean hack, and a greyhound for\\n\" +\n",
    "    \"coursing. An olla of rather more beef than mutton, a salad on most\\n\" +\n",
    "    \"nights, scraps on Saturdays, lentils on Fridays, and a pigeon or so extra\\n\" +\n",
    "    \"on Sundays, made away with three-quarters of his income.\");\n",
    "System.out.println(res);\n",
    "// => [\"a\", \"of\", \"on\"]\n",
    "\n",
    "//top_3_words(\"e e e e DDD ddd DdD: ddd ddd aa aA Aa, bb cc cC e e e\")\n",
    "//# => [\"e\", \"ddd\", \"aa\"]\n",
    "\n",
    "//top_3_words(\"  //wont won't won't\")\n",
    "//# => [\"won't\", \"wont\"]"
   ]
  },
  {
   "cell_type": "code",
   "execution_count": 90,
   "metadata": {},
   "outputs": [
    {
     "name": "stdout",
     "output_type": "stream",
     "text": [
      "{aa=3, bb=1, cc=2, e=7, ddd=5}\n",
      "[e, ddd, aa]\n"
     ]
    },
    {
     "data": {
      "text/plain": [
       "null"
      ]
     },
     "execution_count": 90,
     "metadata": {},
     "output_type": "execute_result"
    }
   ],
   "source": [
    "package kyu;\n",
    "\n",
    "import java.util.*;\n",
    "\n",
    "List<String> res = TopWords.top3(\"e e e e DDD ddd DdD: ddd ddd aa aA Aa, bb cc cC e e e\");\n",
    "System.out.println(res);\n",
    "//# => [\"e\", \"ddd\", \"aa\"]"
   ]
  },
  {
   "cell_type": "code",
   "execution_count": 91,
   "metadata": {},
   "outputs": [
    {
     "name": "stdout",
     "output_type": "stream",
     "text": [
      "{won't=2, wont=1}\n",
      "[won't, wont]\n"
     ]
    },
    {
     "data": {
      "text/plain": [
       "null"
      ]
     },
     "execution_count": 91,
     "metadata": {},
     "output_type": "execute_result"
    }
   ],
   "source": [
    "package kyu;\n",
    "\n",
    "import java.util.*;\n",
    "\n",
    "List<String> res = TopWords.top3(\"  //wont won't won't\");\n",
    "System.out.println(res);\n",
    "//# => [\"won't\", \"wont\"]"
   ]
  },
  {
   "cell_type": "code",
   "execution_count": 92,
   "metadata": {},
   "outputs": [
    {
     "name": "stdout",
     "output_type": "stream",
     "text": [
      "{a=3, b=1, c=2, d=4, e=5}\n",
      "[e, d, a]\n"
     ]
    },
    {
     "data": {
      "text/plain": [
       "null"
      ]
     },
     "execution_count": 92,
     "metadata": {},
     "output_type": "execute_result"
    }
   ],
   "source": [
    "package kyu;\n",
    "\n",
    "import java.util.*;\n",
    "\n",
    "List<String> res = TopWords.top3(\"a a a  b  c c  d d d d  e e e e e\");\n",
    "System.out.println(res);\n",
    "//assertEquals(Arrays.asList(\"e\", \"d\", \"a\"),    TopWords.top3(\"a a a  b  c c  d d d d  e e e e e\"));"
   ]
  },
  {
   "cell_type": "code",
   "execution_count": null,
   "metadata": {},
   "outputs": [],
   "source": []
  }
 ],
 "metadata": {
  "kernelspec": {
   "display_name": "Java",
   "language": "java",
   "name": "java"
  },
  "language_info": {
   "codemirror_mode": "text/x-java",
   "file_extension": ".java",
   "mimetype": "",
   "name": "Java",
   "nbconverter_exporter": "",
   "version": "1.8.0_121"
  },
  "toc": {
   "base_numbering": 1,
   "nav_menu": {},
   "number_sections": false,
   "sideBar": false,
   "skip_h1_title": false,
   "title_cell": "Table of Contents",
   "title_sidebar": "Contents",
   "toc_cell": false,
   "toc_position": {},
   "toc_section_display": false,
   "toc_window_display": false
  }
 },
 "nbformat": 4,
 "nbformat_minor": 2
}
