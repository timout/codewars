{
 "cells": [
  {
   "cell_type": "markdown",
   "metadata": {},
   "source": [
    "### NextBiggerSmallerNumbers"
   ]
  },
  {
   "cell_type": "code",
   "execution_count": 1,
   "metadata": {},
   "outputs": [
    {
     "data": {
      "text/plain": [
       "kyu.NextBiggerSmallerNumber"
      ]
     },
     "execution_count": 1,
     "metadata": {},
     "output_type": "execute_result"
    }
   ],
   "source": [
    "package kyu;\n",
    "\n",
    "import java.util.ArrayList;\n",
    "import java.util.List;\n",
    "\n",
    "public class NextBiggerSmallerNumber {\n",
    "\n",
    "    static List<Integer> numberToArray(long n) {\n",
    "        ArrayList<Integer> arr = new ArrayList<>();\n",
    "        while ( n > 0 ) {\n",
    "            int d = (int) (n % 10);\n",
    "            n = n / 10;\n",
    "            //System.out.println(d);\n",
    "            arr.add(0, d);\n",
    "        }\n",
    "        return arr;\n",
    "    }\n",
    "\n",
    "    static long arrayToNumber(List<Integer> arr) {\n",
    "        long n = arr.get(0);\n",
    "        for ( int i = 1; i < arr.size(); ++i ) n = n * 10 + arr.get(i);\n",
    "        return n;\n",
    "    }\n",
    "\n",
    "    static int findFirstSmaller(List<Integer> arr) {\n",
    "        //find first smaller than next n[ni] < n[ni+1]\n",
    "        int pi = arr.size() - 2;\n",
    "        while ( pi >= 0 && arr.get(pi) >= arr.get( pi + 1 ) ) --pi;\n",
    "        return pi;\n",
    "    }\n",
    "\n",
    "    static int findFirstBigger(List<Integer> arr) {\n",
    "        //find first bigger than next n[ni] > n[ni+1]\n",
    "        int pi = arr.size() - 2;\n",
    "        while ( pi >= 0 && arr.get(pi) <= arr.get( pi + 1 ) ) --pi;\n",
    "        return pi;\n",
    "    }\n",
    "\n",
    "\n",
    "    static int findMinBiggerIndex(List<Integer> arr, int pi) {\n",
    "        int minBiggerIndex = arr.size() - 1;\n",
    "        while ( arr.get(pi) >= arr.get(minBiggerIndex) ) minBiggerIndex--;\n",
    "        return minBiggerIndex;\n",
    "    }\n",
    "\n",
    "    static int findMaxSmallerIndex(List<Integer> arr, int pi) {\n",
    "        int maxSmallerIndex = arr.size() - 1;\n",
    "        int piNum = arr.get(pi);\n",
    "        while ( piNum <= arr.get(maxSmallerIndex) ) maxSmallerIndex--;\n",
    "        return ( arr.get(maxSmallerIndex) == 0 && pi == 0 ) ? -1 : maxSmallerIndex;\n",
    "    }\n",
    "\n",
    "    static void swap(List<Integer> arr, int i, int j) {\n",
    "        Integer b = arr.get(i);\n",
    "        arr.set(i, arr.get(j));\n",
    "        arr.set(j, b);\n",
    "    }\n",
    "\n",
    "    public static long nextBigger(long n) {\n",
    "        if ( n < 12 ) return -1;\n",
    "        List<Integer> arr = numberToArray(n);\n",
    "        int pi = findFirstSmaller(arr);\n",
    "        if ( pi < 0 ) return -1; // not found\n",
    "        //System.out.printf(\"%d - %d : %d %n\", pi, arr.get(pi), arr.get(pi+1));\n",
    "        int mi = findMinBiggerIndex(arr, pi); // find smallest bigger digit after pi : n[pi] < n[ind]\n",
    "        swap(arr, pi, mi);\n",
    "        pi = pi + 1;\n",
    "\n",
    "        int l = arr.size() - 1;\n",
    "        while ( pi < l ) {\n",
    "            swap(arr, pi, l);\n",
    "            pi += 1;\n",
    "            l -= 1;\n",
    "        }\n",
    "        return arrayToNumber(arr);\n",
    "    }\n",
    "\n",
    "    public static long prevSmaller(long n) {\n",
    "        if ( n < 21 ) return -1;\n",
    "        List<Integer> arr = numberToArray(n);\n",
    "        int pi = findFirstBigger(arr);\n",
    "        if ( pi < 0 ) return -1; // not found\n",
    "\n",
    "        //System.out.printf(\"%d - %d : %d %n\", pi, arr.get(pi), arr.get(pi+1));\n",
    "        int mi = findMaxSmallerIndex(arr, pi); // find biggest smaller digit after pi : n[pi] > n[ind]\n",
    "        if ( mi < 0 ) return -1; // not found\n",
    "        swap(arr, pi, mi);\n",
    "        pi = pi + 1;\n",
    "\n",
    "        int l = arr.size() - 1;\n",
    "        while ( pi < l ) {\n",
    "            swap(arr, pi, l);\n",
    "            pi += 1;\n",
    "            l -= 1;\n",
    "        }\n",
    "        return arrayToNumber(arr);\n",
    "    }\n",
    "\n",
    "\n",
    "\n",
    "}\n"
   ]
  },
  {
   "cell_type": "code",
   "execution_count": 3,
   "metadata": {},
   "outputs": [
    {
     "name": "stdout",
     "output_type": "stream",
     "text": [
      "21 - 12 \n",
      "513 - 351 \n",
      "2017 - 1720 \n",
      "414 - 144 \n",
      "144 - -1 \n",
      "345673 - 345637 \n",
      "9876543210 - 9876543201 \n",
      "59884848459853 - 59884848459835 \n",
      "1027 - -1 \n",
      "907 - 790 \n"
     ]
    },
    {
     "data": {
      "text/plain": [
       "null"
      ]
     },
     "execution_count": 3,
     "metadata": {},
     "output_type": "execute_result"
    }
   ],
   "source": [
    "package kyu;\n",
    "\n",
    "import java.util.ArrayList;\n",
    "import java.util.List;\n",
    "\n",
    "System.out.printf(\"%d - %d %n\", 21, NextBiggerSmallerNumber.prevSmaller(21));\n",
    "System.out.printf(\"%d - %d %n\", 513, NextBiggerSmallerNumber.prevSmaller(513));\n",
    "System.out.printf(\"%d - %d %n\", 2017, NextBiggerSmallerNumber.prevSmaller(2017));\n",
    "System.out.printf(\"%d - %d %n\", 414, NextBiggerSmallerNumber.prevSmaller(414));\n",
    "System.out.printf(\"%d - %d %n\", 144, NextBiggerSmallerNumber.prevSmaller(144));\n",
    "System.out.printf(\"%d - %d %n\", 345673, NextBiggerSmallerNumber.prevSmaller(345673));\n",
    "System.out.printf(\"%d - %d %n\", 9876543210L, NextBiggerSmallerNumber.prevSmaller(9876543210L));\n",
    "System.out.printf(\"%d - %d %n\", 59884848459853L, NextBiggerSmallerNumber.prevSmaller(59884848459853L)); //59884848483559\n",
    "\n",
    "System.out.printf(\"%d - %d %n\", 1027L, NextBiggerSmallerNumber.prevSmaller(1027L));\n",
    "System.out.printf(\"%d - %d %n\", 907L, NextBiggerSmallerNumber.prevSmaller(907L));\n"
   ]
  },
  {
   "cell_type": "code",
   "execution_count": 4,
   "metadata": {},
   "outputs": [
    {
     "name": "stdout",
     "output_type": "stream",
     "text": [
      "12 - 21 \n",
      "513 - 531 \n",
      "2017 - 2071 \n",
      "414 - 441 \n",
      "144 - 414 \n",
      "345673 - 345736 \n",
      "9876543210 - -1 \n",
      "59884848459853 - 59884848483559 \n"
     ]
    },
    {
     "data": {
      "text/plain": [
       "null"
      ]
     },
     "execution_count": 4,
     "metadata": {},
     "output_type": "execute_result"
    }
   ],
   "source": [
    "package kyu;\n",
    "\n",
    "import java.util.ArrayList;\n",
    "import java.util.List;\n",
    "\n",
    "System.out.printf(\"%d - %d %n\", 12, NextBiggerSmallerNumber.nextBigger(12));\n",
    "System.out.printf(\"%d - %d %n\", 513, NextBiggerSmallerNumber.nextBigger(513));\n",
    "System.out.printf(\"%d - %d %n\", 2017, NextBiggerSmallerNumber.nextBigger(2017));\n",
    "System.out.printf(\"%d - %d %n\", 414, NextBiggerSmallerNumber.nextBigger(414));\n",
    "System.out.printf(\"%d - %d %n\", 144, NextBiggerSmallerNumber.nextBigger(144));\n",
    "System.out.printf(\"%d - %d %n\", 345673, NextBiggerSmallerNumber.nextBigger(345673));\n",
    "System.out.printf(\"%d - %d %n\", 9876543210L, NextBiggerSmallerNumber.nextBigger(9876543210L));\n",
    "System.out.printf(\"%d - %d %n\", 59884848459853L, NextBiggerSmallerNumber.nextBigger(59884848459853L)); //59884848483559\n"
   ]
  },
  {
   "cell_type": "code",
   "execution_count": null,
   "metadata": {},
   "outputs": [],
   "source": []
  }
 ],
 "metadata": {
  "kernelspec": {
   "display_name": "Java",
   "language": "java",
   "name": "java"
  },
  "language_info": {
   "codemirror_mode": "text/x-java",
   "file_extension": ".java",
   "mimetype": "",
   "name": "Java",
   "nbconverter_exporter": "",
   "version": "1.8.0_121"
  },
  "toc": {
   "base_numbering": 1,
   "nav_menu": {},
   "number_sections": false,
   "sideBar": false,
   "skip_h1_title": false,
   "title_cell": "Table of Contents",
   "title_sidebar": "Contents",
   "toc_cell": false,
   "toc_position": {},
   "toc_section_display": false,
   "toc_window_display": false
  }
 },
 "nbformat": 4,
 "nbformat_minor": 2
}
