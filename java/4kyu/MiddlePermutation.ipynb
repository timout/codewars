{
 "cells": [
  {
   "cell_type": "markdown",
   "metadata": {},
   "source": [
    "You are given a string s. Every letter in s appears once.  \n",
    "Consider all strings formed by rearranging the letters in s.  \n",
    "After ordering these strings in dictionary order, return the middle term. \n",
    "(If the sequence has a even length n, define its middle term to be the (n/2)th term.) \n",
    "\n",
    "Example\n",
    "For s = \"abc\", the result should be \"bac\". The permutations in order are: \"abc\", \"acb\", \"bac\", \"bca\", \"cab\", \"cba\" So, The middle term is \"bac\".\n"
   ]
  },
  {
   "cell_type": "code",
   "execution_count": 2,
   "metadata": {},
   "outputs": [
    {
     "data": {
      "text/plain": [
       "kyu.MiddlePermutation"
      ]
     },
     "execution_count": 2,
     "metadata": {},
     "output_type": "execute_result"
    }
   ],
   "source": [
    "package kyu;\n",
    "\n",
    "public class MiddlePermutation {\n",
    "\n",
    "    private static String sort(String str) {\n",
    "        return str.chars()\n",
    "                .sorted()\n",
    "                .collect(StringBuilder::new, StringBuilder::appendCodePoint, StringBuilder::append)\n",
    "                .toString();\n",
    "    }\n",
    "\n",
    "    private static void reverseExclude(int m1, int m2, String str, StringBuilder b) {\n",
    "        for ( int i = str.length()-1; i >=0; --i ) {\n",
    "            if ( i != m1 && i != m2 ) b.append(str.charAt(i));\n",
    "        }\n",
    "    }\n",
    "\n",
    "    public static String find(String str) {\n",
    "        if ( str == null || str.length() < 2 ) return str;\n",
    "        str = sort(str);\n",
    "        if ( str.length() == 2 ) return str;\n",
    "        StringBuilder b = new StringBuilder();\n",
    "        int size = str.length();\n",
    "        int m = size / 2;\n",
    "        if ( (size & 1) == 0 ) {\n",
    "            b.append(str.charAt(m-1));\n",
    "            reverseExclude(m-1, m-1, str, b);\n",
    "        } else {\n",
    "            b.append(str.charAt(m)).append(str.charAt(m-1));\n",
    "            reverseExclude(m-1, m, str, b);\n",
    "        }\n",
    "        return b.toString();\n",
    "    }\n",
    "}\n"
   ]
  },
  {
   "cell_type": "code",
   "execution_count": 4,
   "metadata": {},
   "outputs": [
    {
     "name": "stdout",
     "output_type": "stream",
     "text": [
      "bac\n",
      "bdca\n",
      "cbxda\n",
      "cxgdba\n",
      "dczxgba\n"
     ]
    },
    {
     "data": {
      "text/plain": [
       "null"
      ]
     },
     "execution_count": 4,
     "metadata": {},
     "output_type": "execute_result"
    }
   ],
   "source": [
    "package kyu;\n",
    "\n",
    "System.out.println(MiddlePermutation.find(\"abc\")); //\"bac\"\n",
    "System.out.println(MiddlePermutation.find(\"abcd\")); //\"bdca\"\n",
    "System.out.println(MiddlePermutation.find(\"abcdx\")); //\"cbxda\"\n",
    "System.out.println(MiddlePermutation.find(\"abcdxg\")); //\"cxgdba\"\n",
    "System.out.println(MiddlePermutation.find(\"abcdxgz\")); //\"dczxgba\""
   ]
  },
  {
   "cell_type": "code",
   "execution_count": null,
   "metadata": {},
   "outputs": [],
   "source": []
  }
 ],
 "metadata": {
  "kernelspec": {
   "display_name": "Java",
   "language": "java",
   "name": "java"
  },
  "language_info": {
   "codemirror_mode": "text/x-java",
   "file_extension": ".java",
   "mimetype": "",
   "name": "Java",
   "nbconverter_exporter": "",
   "version": "1.8.0_121"
  },
  "toc": {
   "base_numbering": 1,
   "nav_menu": {},
   "number_sections": false,
   "sideBar": false,
   "skip_h1_title": false,
   "title_cell": "Table of Contents",
   "title_sidebar": "Contents",
   "toc_cell": false,
   "toc_position": {},
   "toc_section_display": false,
   "toc_window_display": false
  }
 },
 "nbformat": 4,
 "nbformat_minor": 4
}
