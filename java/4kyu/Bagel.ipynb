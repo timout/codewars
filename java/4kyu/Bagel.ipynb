{
 "cells": [
  {
   "cell_type": "markdown",
   "metadata": {},
   "source": [
    "`\n",
    "public class Bagel {\n",
    "    public final int getValue() {\n",
    "        return 3;\n",
    "    }\n",
    "}\n",
    "`  \n",
    "We're testing that the result is equal to 4.  \n",
    "But as a little hint, the solution to this Kata is (almost) exactly the same as the example test cases.\n"
   ]
  },
  {
   "cell_type": "code",
   "execution_count": 1,
   "metadata": {},
   "outputs": [
    {
     "data": {
      "text/plain": [
       "kyu.Bagel"
      ]
     },
     "execution_count": 1,
     "metadata": {},
     "output_type": "execute_result"
    }
   ],
   "source": [
    "package kyu;\n",
    "\n",
    "public class Bagel {\n",
    "    public final int getValue() {\n",
    "        return 3;\n",
    "    }\n",
    "}\n"
   ]
  },
  {
   "cell_type": "code",
   "execution_count": 2,
   "metadata": {},
   "outputs": [
    {
     "data": {
      "text/plain": [
       "kyu.BagelSolver"
      ]
     },
     "execution_count": 2,
     "metadata": {},
     "output_type": "execute_result"
    }
   ],
   "source": [
    "package kyu;\n",
    "\n",
    "import java.lang.reflect.*;\n",
    "\n",
    "public class BagelSolver {\n",
    "\n",
    "  public static Bagel getBagel() {\n",
    "        try {\n",
    "            Field mf = Field.class.getDeclaredField(\"modifiers\");\n",
    "            mf.setAccessible(true);\n",
    "            Field tf = Boolean.class.getField(\"TRUE\");\n",
    "            mf.setInt(tf, tf.getModifiers() & ~Modifier.FINAL);\n",
    "            tf.set(null, false);\n",
    "        } catch (Exception e) {\n",
    "            e.printStackTrace();\n",
    "        }\n",
    "        return new Bagel();\n",
    "  }\n",
    "\n",
    "}"
   ]
  },
  {
   "cell_type": "code",
   "execution_count": 3,
   "metadata": {},
   "outputs": [
    {
     "name": "stdout",
     "output_type": "stream",
     "text": [
      "false\n"
     ]
    },
    {
     "data": {
      "text/plain": [
       "null"
      ]
     },
     "execution_count": 3,
     "metadata": {},
     "output_type": "execute_result"
    }
   ],
   "source": [
    "package kyu;\n",
    "\n",
    "int v = BagelSolver.getBagel().getValue();\n",
    "\n",
    "System.out.println(java.lang.Boolean.TRUE);\n"
   ]
  },
  {
   "cell_type": "code",
   "execution_count": 5,
   "metadata": {},
   "outputs": [
    {
     "data": {
      "text/plain": [
       "kyu.BagelSolver"
      ]
     },
     "execution_count": 5,
     "metadata": {},
     "output_type": "execute_result"
    }
   ],
   "source": [
    "package kyu;\n",
    "\n",
    "import java.lang.reflect.*;\n",
    "\n",
    "public class BagelSolver {\n",
    "\n",
    "    public static Bagel getBagel() {\n",
    "        try {\n",
    "            Field f = Boolean.class.getDeclaredField(\"value\");\n",
    "            f.setAccessible(true);\n",
    "            f.set(Boolean.TRUE, Boolean.FALSE);\n",
    "        } catch (Exception e) {\n",
    "            e.printStackTrace();\n",
    "        }\n",
    "\n",
    "        return new Bagel();\n",
    "    }\n",
    "}"
   ]
  },
  {
   "cell_type": "code",
   "execution_count": 6,
   "metadata": {},
   "outputs": [
    {
     "name": "stdout",
     "output_type": "stream",
     "text": [
      "false\n"
     ]
    },
    {
     "data": {
      "text/plain": [
       "null"
      ]
     },
     "execution_count": 6,
     "metadata": {},
     "output_type": "execute_result"
    }
   ],
   "source": [
    "package kyu;\n",
    "\n",
    "int v = BagelSolver.getBagel().getValue();\n",
    "\n",
    "System.out.println(java.lang.Boolean.TRUE);"
   ]
  },
  {
   "cell_type": "code",
   "execution_count": null,
   "metadata": {},
   "outputs": [],
   "source": []
  }
 ],
 "metadata": {
  "kernelspec": {
   "display_name": "Java",
   "language": "java",
   "name": "java"
  },
  "language_info": {
   "codemirror_mode": "text/x-java",
   "file_extension": ".java",
   "mimetype": "",
   "name": "Java",
   "nbconverter_exporter": "",
   "version": "1.8.0_121"
  },
  "toc": {
   "base_numbering": 1,
   "nav_menu": {},
   "number_sections": false,
   "sideBar": false,
   "skip_h1_title": false,
   "title_cell": "Table of Contents",
   "title_sidebar": "Contents",
   "toc_cell": false,
   "toc_position": {},
   "toc_section_display": false,
   "toc_window_display": false
  }
 },
 "nbformat": 4,
 "nbformat_minor": 2
}
