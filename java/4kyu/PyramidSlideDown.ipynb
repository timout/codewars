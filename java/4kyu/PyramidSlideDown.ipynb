{
 "cells": [
  {
   "cell_type": "markdown",
   "metadata": {},
   "source": [
    "### Pyramid Slide Down"
   ]
  },
  {
   "cell_type": "code",
   "execution_count": 1,
   "metadata": {},
   "outputs": [
    {
     "data": {
      "text/plain": [
       "pyramid.Pyramid"
      ]
     },
     "execution_count": 1,
     "metadata": {},
     "output_type": "execute_result"
    }
   ],
   "source": [
    "package pyramid;\n",
    "\n",
    "import java.util.stream.IntStream;\n",
    "\n",
    "public class Pyramid {\n",
    "\n",
    "    public static int slide(int [][] p) {\n",
    "        if ( p == null ) return 0;\n",
    "        int h = p.length;\n",
    "        int [] res = IntStream\n",
    "                .range(0, h-1)\n",
    "                .map(i -> h-2 - i)\n",
    "                .mapToObj(i -> p[i])\n",
    "                .reduce(p[h-1], (pre, c) ->\n",
    "                    IntStream.range(0, c.length)\n",
    "                            .map(i -> Math.max(c[i] + pre[i], c[i] + pre[i+1]) )\n",
    "                            .toArray()\n",
    "                );\n",
    "        return res[0];\n",
    "    }\n",
    "\n",
    "}\n"
   ]
  },
  {
   "cell_type": "code",
   "execution_count": 2,
   "metadata": {},
   "outputs": [
    {
     "name": "stdout",
     "output_type": "stream",
     "text": [
      "23\n"
     ]
    },
    {
     "data": {
      "text/plain": [
       "null"
      ]
     },
     "execution_count": 2,
     "metadata": {},
     "output_type": "execute_result"
    }
   ],
   "source": [
    "package pyramid;\n",
    "int res = Pyramid.slide(new int [][]{ {3}, {7, 4}, {2, 4, 6}, {8, 5, 9, 3} });\n",
    "System.out.println(res);\n"
   ]
  },
  {
   "cell_type": "code",
   "execution_count": null,
   "metadata": {},
   "outputs": [],
   "source": []
  }
 ],
 "metadata": {
  "kernelspec": {
   "display_name": "Java",
   "language": "java",
   "name": "java"
  },
  "language_info": {
   "codemirror_mode": "text/x-java",
   "file_extension": ".java",
   "mimetype": "",
   "name": "Java",
   "nbconverter_exporter": "",
   "version": "11.0.1"
  },
  "toc": {
   "base_numbering": 1,
   "nav_menu": {},
   "number_sections": false,
   "sideBar": false,
   "skip_h1_title": false,
   "title_cell": "Table of Contents",
   "title_sidebar": "Contents",
   "toc_cell": false,
   "toc_position": {},
   "toc_section_display": false,
   "toc_window_display": false
  }
 },
 "nbformat": 4,
 "nbformat_minor": 2
}
