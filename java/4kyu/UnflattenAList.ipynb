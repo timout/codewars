{
 "cells": [
  {
   "cell_type": "markdown",
   "metadata": {},
   "source": [
    "### Unflatten a List\n",
    "\n",
    "- Start at the first number.\n",
    "- If this number x is smaller than 3, take this number x direct \n",
    "  for the new array and continue with the next number.\n",
    "- If this number x is greater than 2, take the next x numbers (inclusive this number) as a \n",
    "  sub-array in the new array. Continue with the next number AFTER this taken numbers.\n",
    "- If there are too few numbers to take by number, take the last available numbers.\n"
   ]
  },
  {
   "cell_type": "code",
   "execution_count": 19,
   "metadata": {},
   "outputs": [
    {
     "data": {
      "text/plain": [
       "kyu.Kata"
      ]
     },
     "execution_count": 19,
     "metadata": {},
     "output_type": "execute_result"
    }
   ],
   "source": [
    "package kyu;\n",
    "\n",
    "import java.util.*;\n",
    "\n",
    "public class Kata {\n",
    "    \n",
    "    public static Object[] unflatten(int[] flatArray) {\n",
    "        if ( flatArray == null || flatArray.length == 0 ) {\n",
    "            return new Object[0];\n",
    "        }\n",
    "        ArrayList<Object> res = new ArrayList<>();\n",
    "        int cnt = 0;\n",
    "        ArrayList<Object> emb = null;\n",
    "        for (int i : flatArray) {\n",
    "            if ( cnt == 0 ) {\n",
    "                if ( i <  3 ) {\n",
    "                    res.add(i);\n",
    "                } else {\n",
    "                    cnt = i - 1;\n",
    "                    emb = new ArrayList<>();\n",
    "                    emb.add(i);\n",
    "                }\n",
    "            } else {\n",
    "                cnt = cnt - 1;\n",
    "                emb.add(i);\n",
    "                if ( cnt == 0 ) {\n",
    "                    res.add(emb.toArray());\n",
    "                    emb = null;\n",
    "                }\n",
    "            }\n",
    "        }\n",
    "        if ( cnt > 0 ) {\n",
    "            res.add(emb.toArray());\n",
    "        }\n",
    "        return res.toArray();\n",
    "    }\n",
    "}\n"
   ]
  },
  {
   "cell_type": "code",
   "execution_count": 23,
   "metadata": {},
   "outputs": [
    {
     "name": "stdout",
     "output_type": "stream",
     "text": [
      "1,[4,5,2,1],2,[4,5,2,6],2,[3,3]\n"
     ]
    },
    {
     "data": {
      "text/plain": [
       "null"
      ]
     },
     "execution_count": 23,
     "metadata": {},
     "output_type": "execute_result"
    }
   ],
   "source": [
    "package kyu;\n",
    "\n",
    "import java.util.*;\n",
    "import java.util.stream.*;\n",
    "\n",
    "//[1,4,5,2,1,2,4,5,2,6,2,3,3] -> [1,[4,5,2,1],2,[4,5,2,6],2,[3,3]]\n",
    "Object [] res = Kata.unflatten(new int[]{1,4,5,2,1,2,4,5,2,6,2,3,3});\n",
    "\n",
    "String str = Arrays.stream(res).map( o -> {\n",
    "    if ( o instanceof Integer ) return o.toString();\n",
    "    return \"[\" +  Arrays.stream((Object[])o).map( r -> r.toString() ).collect( Collectors.joining( \",\" ) ) + \"]\";\n",
    "}).collect( Collectors.joining( \",\" ) );\n",
    "\n",
    "System.out.println(str);"
   ]
  },
  {
   "cell_type": "markdown",
   "metadata": {},
   "source": [
    "### Hard Version\n",
    "- You have to do several runs. The depth is the number of runs, you have to do.\n",
    "- In every run you have to switch the direction. First run from left, next run from right. Next left...  \n",
    "##### Every run has these rules:\n",
    "- You start at the first number (from the direction).\n",
    "- Take for every number x the remainder of the division by the number of still available elements (from \n",
    "  this position!) to have the number for the next decision.\n",
    "- If the remainder-value is smaller than 3, take this number x (NOT the remainder-Value) direct\n",
    "  for the new array and continue with the next number.\n",
    "- If the remainder-value (e.g. 3) is greater than 2, take the next remainder-value-number (e.g. 3)\n",
    "  elements/numbers (inclusive the number x, NOT the remainder-value) as a sub-array in the new array.\n",
    "  Continue with the next number/element AFTER this taken elements/numbers.\n",
    "- Every sub-array in the array is independent and is only one element for the progress on the array. \n",
    "  For every sub-array you have to follow the same rules for unflatten it.\n",
    "  The direction is always the same as the actual run."
   ]
  },
  {
   "cell_type": "code",
   "execution_count": 27,
   "metadata": {},
   "outputs": [
    {
     "data": {
      "text/plain": [
       "kyu.UnflattenHard"
      ]
     },
     "execution_count": 27,
     "metadata": {},
     "output_type": "execute_result"
    }
   ],
   "source": [
    "package kyu;\n",
    "\n",
    "import java.util.*;\n",
    "import java.util.stream.*;\n",
    "\n",
    "//- You have to do several runs. The depth is the number of runs, you have to do.\n",
    "//        - In every run you have to switch the direction. First run from left, next run from right. Next left...\n",
    "//        Every run has these rules:\n",
    "//        - You start at the first number (from the direction).\n",
    "//        - Take for every number x the remainder of the division by the number of still available elements (from\n",
    "//        this position!) to have the number for the next decision.\n",
    "//        - If the remainder-value is smaller than 3, take this number x (NOT the remainder-Value) direct\n",
    "//        for the new array and continue with the next number.\n",
    "//        - If the remainder-value (e.g. 3) is greater than 2, take the next remainder-value-number (e.g. 3)\n",
    "//        elements/numbers (inclusive the number x, NOT the remainder-value) as a sub-array in the new array.\n",
    "//        Continue with the next number/element AFTER this taken elements/numbers.\n",
    "//        - Every sub-array in the array is independent and is only one element for the progress on the array.\n",
    "//        For every sub-array you have to follow the same rules for unflatten it.\n",
    "//        The direction is always the same as the actual run.\n",
    "\n",
    "public class UnflattenHard {\n",
    "\n",
    "    static ArrayList<Object> unflatten(List<Object> arr) {\n",
    "        int cnt = 0;\n",
    "        int l = arr.size();\n",
    "        ArrayList<Object> res = new ArrayList<>();\n",
    "        ArrayList<Object> emb = null;\n",
    "        for ( int i = 0; i < l; ++i ) {\n",
    "            Object o = arr.get(i);\n",
    "            if ( cnt == 0 ) {\n",
    "                if ( o instanceof List ) {\n",
    "                    Object eo = unflatten((List<Object>) o);\n",
    "                    res.add(eo);\n",
    "                } else {\n",
    "                    int rest = l - i;\n",
    "                    int rem = ((Integer) o) % rest;\n",
    "                    if (rem < 3) {\n",
    "                        res.add(o);\n",
    "                    } else {\n",
    "                        cnt = rem - 1;\n",
    "                        emb = new ArrayList<>();\n",
    "                        emb.add(o);\n",
    "                        res.add(emb);\n",
    "                    }\n",
    "                }\n",
    "\n",
    "            } else {\n",
    "                cnt = cnt - 1;\n",
    "                emb.add(o);\n",
    "            }\n",
    "        }\n",
    "        return res;\n",
    "    }\n",
    "\n",
    "    static List<Object> reverse(List<Object> list) {\n",
    "        list.forEach( o -> { if ( o instanceof List ) reverse( (List<Object>) o); } );\n",
    "        Collections.reverse(list);\n",
    "        return list;\n",
    "    }\n",
    "\n",
    "    static Object[] toArray(List<Object> list) {\n",
    "        return list.stream().map( o -> {\n",
    "            if ( o instanceof List) {\n",
    "                return toArray((List<Object>) o);\n",
    "            } else {\n",
    "                return o;\n",
    "            }\n",
    "        }).toArray();\n",
    "    }\n",
    "\n",
    "    public static Object[] unflatten(int[] flatArray, int depth) {\n",
    "        if ( flatArray == null || flatArray.length == 0 || depth == 0 ) {\n",
    "            return new Object[0];\n",
    "        }\n",
    "        List<Object> res = Arrays.stream(flatArray).boxed().collect(Collectors.toList());\n",
    "        boolean reverse = false;\n",
    "        for ( int i = 0; i < depth; ++i ) {\n",
    "            if ( reverse ) {\n",
    "                reverse(res);\n",
    "                res = unflatten(res);\n",
    "                reverse(res);\n",
    "            } else {\n",
    "                res = unflatten(res);\n",
    "            }\n",
    "            reverse = ! reverse;\n",
    "        }\n",
    "        return toArray(res);\n",
    "    }\n",
    "\n",
    "    static String printArray(Object [] res) {\n",
    "        return \"[\" + Arrays.stream(res).map( o -> {\n",
    "            if ( o instanceof Object[] ) {\n",
    "                return printArray((Object[]) o);\n",
    "            } else {\n",
    "                return o.toString();\n",
    "            }\n",
    "        }).collect(Collectors.joining( \",\" ) ) + \"]\";\n",
    "    }\n",
    "\n",
    "}\n"
   ]
  },
  {
   "cell_type": "code",
   "execution_count": 31,
   "metadata": {},
   "outputs": [
    {
     "name": "stdout",
     "output_type": "stream",
     "text": [
      "[[4,[5,1,7]],1]\n",
      "[12,1,[5,[3,1,55],2],[3,7,8],1]\n"
     ]
    },
    {
     "data": {
      "text/plain": [
       "null"
      ]
     },
     "execution_count": 31,
     "metadata": {},
     "output_type": "execute_result"
    }
   ],
   "source": [
    "package kyu;\n",
    "\n",
    "import java.util.*;\n",
    "import java.util.stream.*;\n",
    "\n",
    "Object [] res = UnflattenHard.unflatten(new int[]{4, 5, 1, 7, 1}, 2);\n",
    "System.out.println(UnflattenHard.printArray(res));\n",
    "//[4, 5, 1, 7, 1] Depth: 2 -> [[ 4, [ 5, 1, 7 ] ], 1]\n",
    "\n",
    "res = UnflattenHard.unflatten(new int[]{12, 1, 5, 3, 1, 55, 2, 3, 7, 8, 1 }, 3);\n",
    "System.out.println(UnflattenHard.printArray(res));\n",
    "// [ 12,1, [ 5, [ 3, 1, 55 ], 2], [ 3, 7, 8 ], 1 ]\n",
    "\n"
   ]
  },
  {
   "cell_type": "code",
   "execution_count": null,
   "metadata": {},
   "outputs": [],
   "source": []
  }
 ],
 "metadata": {
  "kernelspec": {
   "display_name": "Java",
   "language": "java",
   "name": "java"
  },
  "language_info": {
   "codemirror_mode": "text/x-java",
   "file_extension": ".java",
   "mimetype": "",
   "name": "Java",
   "nbconverter_exporter": "",
   "version": "1.8.0_121"
  },
  "toc": {
   "base_numbering": 1,
   "nav_menu": {},
   "number_sections": false,
   "sideBar": false,
   "skip_h1_title": false,
   "title_cell": "Table of Contents",
   "title_sidebar": "Contents",
   "toc_cell": false,
   "toc_position": {},
   "toc_section_display": false,
   "toc_window_display": false
  }
 },
 "nbformat": 4,
 "nbformat_minor": 2
}
