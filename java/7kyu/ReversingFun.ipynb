{
 "cells": [
  {
   "cell_type": "markdown",
   "metadata": {},
   "source": [
    "<pre>\n",
    "You are going to be given a string. Your job is to return that string in a certain order that I will explain below:\n",
    "\n",
    "Let's say you start with this: 012345\n",
    "\n",
    "The first thing you do is reverse it:543210\n",
    "Then you will take the string from the 1st position and reverse it again:501234\n",
    "Then you will take the string from the 2nd position and reverse it again:504321\n",
    "Then you will take the string from the 3rd position and reverse it again:504123\n",
    "\n",
    "Continue this pattern until you have done every single position, and then you will return the string you have created. For this particular number, you would return:504132\n",
    "</pre>"
   ]
  },
  {
   "cell_type": "code",
   "execution_count": 11,
   "metadata": {},
   "outputs": [
    {
     "data": {
      "text/plain": [
       "kyu.FunReverse"
      ]
     },
     "execution_count": 11,
     "metadata": {},
     "output_type": "execute_result"
    }
   ],
   "source": [
    "package kyu;\n",
    "\n",
    "public class FunReverse {\n",
    "    \n",
    "    public static String funReverse(String s) {\n",
    "        if ( s == null || s.length() < 2 ) return s;\n",
    "        StringBuilder b = new StringBuilder();\n",
    "        int i = 0;\n",
    "        int j = s.length()-1;\n",
    "        while ( i < j ) {\n",
    "            b.append(s.charAt(j)).append(s.charAt(i));\n",
    "            j -= 1;\n",
    "            i += 1;\n",
    "        }\n",
    "        if ( i == j ) b.append(s.charAt(i));\n",
    "        return b.toString();\n",
    "    }\n",
    "}\n"
   ]
  },
  {
   "cell_type": "code",
   "execution_count": 13,
   "metadata": {},
   "outputs": [
    {
     "name": "stdout",
     "output_type": "stream",
     "text": [
      "null\n",
      "\n",
      "0\n",
      "201\n",
      "504132\n",
      "9081726354\n"
     ]
    },
    {
     "data": {
      "text/plain": [
       "null"
      ]
     },
     "execution_count": 13,
     "metadata": {},
     "output_type": "execute_result"
    }
   ],
   "source": [
    "package kyu;\n",
    "\n",
    "System.out.println(FunReverse.funReverse(null));\n",
    "System.out.println(FunReverse.funReverse(\"\"));\n",
    "System.out.println(FunReverse.funReverse(\"0\"));\n",
    "System.out.println(FunReverse.funReverse(\"012\"));\n",
    "System.out.println(FunReverse.funReverse(\"012345\"));\n",
    "System.out.println(FunReverse.funReverse(\"0123456789\"));"
   ]
  },
  {
   "cell_type": "code",
   "execution_count": null,
   "metadata": {},
   "outputs": [],
   "source": []
  }
 ],
 "metadata": {
  "kernelspec": {
   "display_name": "Java",
   "language": "java",
   "name": "java"
  },
  "language_info": {
   "codemirror_mode": "text/x-java",
   "file_extension": ".java",
   "mimetype": "",
   "name": "Java",
   "nbconverter_exporter": "",
   "version": "1.8.0_121"
  },
  "toc": {
   "base_numbering": 1,
   "nav_menu": {},
   "number_sections": false,
   "sideBar": false,
   "skip_h1_title": false,
   "title_cell": "Table of Contents",
   "title_sidebar": "Contents",
   "toc_cell": false,
   "toc_position": {},
   "toc_section_display": false,
   "toc_window_display": false
  }
 },
 "nbformat": 4,
 "nbformat_minor": 4
}
